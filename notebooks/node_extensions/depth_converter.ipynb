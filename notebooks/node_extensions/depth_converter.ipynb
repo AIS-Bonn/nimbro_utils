{
 "cells": [
  {
   "cell_type": "markdown",
   "id": "d1f26335-fbfc-43b5-a6d0-f93718184900",
   "metadata": {
    "jp-MarkdownHeadingCollapsed": true
   },
   "source": [
    "## Start Node"
   ]
  },
  {
   "cell_type": "code",
   "execution_count": 1,
   "id": "17f31b0e-223c-4ba0-926f-e810dd9ff816",
   "metadata": {},
   "outputs": [],
   "source": [
    "import rclpy\n",
    "from nimbro_utils.lazy import start_and_spin_node, stop_node"
   ]
  },
  {
   "cell_type": "code",
   "execution_count": 2,
   "id": "9d6dcc03-ec1d-4d9b-8640-198c4085b917",
   "metadata": {},
   "outputs": [],
   "source": [
    "class MyNode(rclpy.node.Node):\n",
    "    def __init__(self, context=None):\n",
    "        super().__init__(\"test_depth_converter_node\", context=context)"
   ]
  },
  {
   "cell_type": "code",
   "execution_count": 3,
   "id": "37f2965c-44e7-46ba-865c-ef2913e3de57",
   "metadata": {},
   "outputs": [
    {
     "name": "stdout",
     "output_type": "stream",
     "text": [
      "\u001b[32m>\u001b[36m Starting node 'MyNode'\u001b[0m\n"
     ]
    }
   ],
   "source": [
    "node, executor, context, thread = start_and_spin_node(MyNode, blocking=False)"
   ]
  },
  {
   "cell_type": "markdown",
   "id": "8f96b6cc-19af-4bdb-8ceb-d75ea4c40d22",
   "metadata": {
    "jp-MarkdownHeadingCollapsed": true
   },
   "source": [
    "## Add DepthConverter"
   ]
  },
  {
   "cell_type": "code",
   "execution_count": 4,
   "id": "9760e603-b1ba-462f-9372-a2cffbb6b416",
   "metadata": {},
   "outputs": [],
   "source": [
    "from nimbro_utils.lazy import DepthConverter"
   ]
  },
  {
   "cell_type": "code",
   "execution_count": 5,
   "id": "b96a5353-51c4-4296-9edb-c5938fbb7d2f",
   "metadata": {},
   "outputs": [],
   "source": [
    "node.depth_converter = DepthConverter(node, settings={'depth_info_topic': \"/gemini/depth/camera_info\"})"
   ]
  },
  {
   "cell_type": "markdown",
   "id": "08ba5827-b931-458e-9957-c7f09861c8ad",
   "metadata": {},
   "source": [
    "#### The DepthConverter's settings can be obtained via `get_settings()` and updated via `set_settings()`."
   ]
  },
  {
   "cell_type": "code",
   "execution_count": 6,
   "id": "1f9ce9f3-c277-4274-b113-92da606bc404",
   "metadata": {},
   "outputs": [
    {
     "data": {
      "text/plain": [
       "{'depth_info_topic': '/gemini/depth/camera_info',\n",
       " 'severity': 20,\n",
       " 'suffix': 'depth_converter',\n",
       " 'depth_info_update': None,\n",
       " 'depth_scale': 0.001}"
      ]
     },
     "execution_count": 6,
     "metadata": {},
     "output_type": "execute_result"
    }
   ],
   "source": [
    "node.depth_converter.get_settings()"
   ]
  },
  {
   "cell_type": "code",
   "execution_count": 7,
   "id": "40c150f4-6b9d-4066-9edb-5935fe7cd64e",
   "metadata": {},
   "outputs": [
    {
     "name": "stdout",
     "output_type": "stream",
     "text": [
      "\u001b[0m2025-09-10 18:41:18.529 [INFO] [test_depth_converter_node.depth_converter]: Initialized camera parameters\u001b[0m\n"
     ]
    }
   ],
   "source": [
    "node.depth_converter.set_settings(settings={'severity': 20})"
   ]
  },
  {
   "cell_type": "markdown",
   "id": "eee8d0fa-086c-4aef-9c2f-eaddb1424885",
   "metadata": {},
   "source": [
    "#### Utilities are provided to check if camera paraeters have been received, to wait for them, and to obtain them."
   ]
  },
  {
   "cell_type": "code",
   "execution_count": 8,
   "id": "9b66310c-b088-465f-841b-5cd4df99418b",
   "metadata": {},
   "outputs": [
    {
     "data": {
      "text/plain": [
       "True"
      ]
     },
     "execution_count": 8,
     "metadata": {},
     "output_type": "execute_result"
    }
   ],
   "source": [
    "node.depth_converter.is_camera_received()"
   ]
  },
  {
   "cell_type": "code",
   "execution_count": 9,
   "id": "91f4a4c7-b6ee-4fa6-800e-79e3fc297e01",
   "metadata": {},
   "outputs": [],
   "source": [
    "node.depth_converter.wait_for_camera()"
   ]
  },
  {
   "cell_type": "code",
   "execution_count": 10,
   "id": "3fd6493f-30d8-41e6-afc3-fac90060a08c",
   "metadata": {},
   "outputs": [
    {
     "data": {
      "text/plain": [
       "{'frame': 'gemini_color_optical_frame',\n",
       " 'model': 'rational_polynomial',\n",
       " 'width': 1920,\n",
       " 'height': 1080,\n",
       " 'focal_x': 1037.986572265625,\n",
       " 'focal_y': 1038.075439453125,\n",
       " 'center_x': 965.96484375,\n",
       " 'center_y': 533.9769897460938}"
      ]
     },
     "execution_count": 10,
     "metadata": {},
     "output_type": "execute_result"
    }
   ],
   "source": [
    "node.depth_converter.get_camera()"
   ]
  },
  {
   "cell_type": "code",
   "execution_count": 11,
   "id": "7775a64f-b5cb-4caf-87e0-030d50a977ef",
   "metadata": {},
   "outputs": [
    {
     "name": "stdout",
     "output_type": "stream",
     "text": [
      "(2073600, 2)\n"
     ]
    }
   ],
   "source": [
    "pixel_coordinates = node.depth_converter.get_pixels()\n",
    "print(pixel_coordinates.shape)"
   ]
  },
  {
   "cell_type": "markdown",
   "id": "856d4589-3c51-42bf-b84c-3c55a1ee3851",
   "metadata": {},
   "source": [
    "#### We use a SensorInterface to obtain a depth image from an Orbbec Gemini 335."
   ]
  },
  {
   "cell_type": "code",
   "execution_count": 12,
   "id": "6dba6bdb-d076-475e-8aec-6eb4df87b994",
   "metadata": {
    "scrolled": true
   },
   "outputs": [
    {
     "name": "stdout",
     "output_type": "stream",
     "text": [
      "\u001b[0m2025-09-10 18:41:18.620 [INFO] [test_depth_converter_node.sensors]: Subscribing and caching topics: [('/gemini/depth/image_raw/compressedDepth', 'CompressedImage', 10)] (1)\u001b[0m\n"
     ]
    }
   ],
   "source": [
    "from nimbro_utils.lazy import SensorInterface\n",
    "settings = {\n",
    "    'names': [\"depth\"],\n",
    "    'topics': [\"/gemini/depth/image_raw/compressedDepth\"],\n",
    "    'types': [\"CompressedImage\"],\n",
    "    'formats': [\"passthrough\"],\n",
    "}\n",
    "node.sensor_interface = SensorInterface(node, settings=settings)"
   ]
  },
  {
   "cell_type": "code",
   "execution_count": 13,
   "id": "ee685eec-3ec1-4fe8-a91c-9f858904310a",
   "metadata": {},
   "outputs": [],
   "source": [
    "success, message, depth_image = node.sensor_interface.get_data(source=\"depth\")"
   ]
  },
  {
   "cell_type": "code",
   "execution_count": 14,
   "id": "d463cc64-f896-4058-a86c-9e8e9cc1ab34",
   "metadata": {},
   "outputs": [
    {
     "name": "stdout",
     "output_type": "stream",
     "text": [
      "True\n",
      "Retrieved sensor data from source 'depth' with age '-0.018s' after waiting '0.274s'.\n",
      "<class 'sensor_msgs.msg._compressed_image.CompressedImage'>\n"
     ]
    }
   ],
   "source": [
    "print(success)\n",
    "print(message)\n",
    "print(type(depth_image))"
   ]
  },
  {
   "cell_type": "markdown",
   "id": "dec763a1-ce50-48f6-9097-f97056015306",
   "metadata": {
    "jp-MarkdownHeadingCollapsed": true
   },
   "source": [
    "## Convert depth image to pointcloud"
   ]
  },
  {
   "cell_type": "code",
   "execution_count": 15,
   "id": "93ce26a1-0a7d-4c3b-a055-e4113c16bc6d",
   "metadata": {},
   "outputs": [],
   "source": [
    "pointcloud = node.depth_converter.get_point_cloud(pixels=None, depth_msg=depth_image, filter_invalid=True)"
   ]
  },
  {
   "cell_type": "code",
   "execution_count": 16,
   "id": "e5b0756d-ac35-4669-b2d7-4ef35c97ef4d",
   "metadata": {},
   "outputs": [
    {
     "data": {
      "text/plain": [
       "(1649323, 3)"
      ]
     },
     "execution_count": 16,
     "metadata": {},
     "output_type": "execute_result"
    }
   ],
   "source": [
    "pointcloud.shape"
   ]
  },
  {
   "cell_type": "markdown",
   "id": "187d2bd2-7882-46e0-b5cd-9a8e7534743a",
   "metadata": {},
   "source": [
    "#### Passing a depth image to `get_point_cloud()` causes it to be pre-processed (conversion, scaling, validation, etc.). When obtaining a different pointcloud from the same depth image (w.r.t. `pixels`) it must not be passed again."
   ]
  },
  {
   "cell_type": "code",
   "execution_count": 17,
   "id": "b4e894af-cd30-47eb-8d3a-9f9ed23a0387",
   "metadata": {},
   "outputs": [
    {
     "data": {
      "text/plain": [
       "True"
      ]
     },
     "execution_count": 17,
     "metadata": {},
     "output_type": "execute_result"
    }
   ],
   "source": [
    "node.depth_converter.is_depth_set()"
   ]
  },
  {
   "cell_type": "code",
   "execution_count": 18,
   "id": "9715beba-dbb8-4479-bafb-498f60a66d4e",
   "metadata": {},
   "outputs": [],
   "source": [
    "pointcloud = node.depth_converter.get_point_cloud(pixels=[[0,0], [1,1]], depth_msg=None, filter_invalid=True)"
   ]
  },
  {
   "cell_type": "code",
   "execution_count": 19,
   "id": "1079a72f-5edf-4c84-96f4-73ae8fb57efc",
   "metadata": {},
   "outputs": [
    {
     "data": {
      "text/plain": [
       "array([[-2.71832352, -1.50253703,  2.921     ],\n",
       "       [-2.71550942, -1.49972317,  2.921     ]])"
      ]
     },
     "execution_count": 19,
     "metadata": {},
     "output_type": "execute_result"
    }
   ],
   "source": [
    "pointcloud"
   ]
  },
  {
   "cell_type": "markdown",
   "id": "c68aa8d2-456b-4dd9-9d9f-0c19bb1b3cba",
   "metadata": {},
   "source": [
    "#### Pre-processing can also be triggered explicitly."
   ]
  },
  {
   "cell_type": "code",
   "execution_count": 20,
   "id": "15a100fa-73f9-479c-a9c8-2e67f82b1012",
   "metadata": {},
   "outputs": [],
   "source": [
    "node.depth_converter.set_depth(depth_msg=depth_image)"
   ]
  },
  {
   "cell_type": "markdown",
   "id": "be213d45-0d3c-4faa-9e1a-10b78b06ebaf",
   "metadata": {
    "jp-MarkdownHeadingCollapsed": true
   },
   "source": [
    "## Stop Node"
   ]
  },
  {
   "cell_type": "code",
   "execution_count": 21,
   "id": "d9b47b63-2de1-4eba-a672-5fbd6851a981",
   "metadata": {},
   "outputs": [
    {
     "name": "stdout",
     "output_type": "stream",
     "text": [
      "\u001b[31m> \u001b[36mStopped node 'MyNode'\u001b[0m\n"
     ]
    }
   ],
   "source": [
    "stop_node(node, executor, context, thread)"
   ]
  }
 ],
 "metadata": {
  "kernelspec": {
   "display_name": "Python 3 (ipykernel)",
   "language": "python",
   "name": "python3"
  },
  "language_info": {
   "codemirror_mode": {
    "name": "ipython",
    "version": 3
   },
   "file_extension": ".py",
   "mimetype": "text/x-python",
   "name": "python",
   "nbconvert_exporter": "python",
   "pygments_lexer": "ipython3",
   "version": "3.12.3"
  }
 },
 "nbformat": 4,
 "nbformat_minor": 5
}
