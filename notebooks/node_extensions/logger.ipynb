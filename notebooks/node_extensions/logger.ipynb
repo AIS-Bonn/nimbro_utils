{
 "cells": [
  {
   "cell_type": "markdown",
   "id": "29188e54-6f31-4fa1-95ae-6db75d36cdc3",
   "metadata": {
    "jp-MarkdownHeadingCollapsed": true
   },
   "source": [
    "## Start Node"
   ]
  },
  {
   "cell_type": "code",
   "execution_count": 1,
   "id": "674ee8e9-7e60-4868-9add-50a0fda3d875",
   "metadata": {},
   "outputs": [],
   "source": [
    "import rclpy\n",
    "from nimbro_utils.lazy import start_and_spin_node, stop_node"
   ]
  },
  {
   "cell_type": "code",
   "execution_count": 2,
   "id": "f484f601-8bf8-40ed-9daa-f021926178a9",
   "metadata": {},
   "outputs": [],
   "source": [
    "class MyNode(rclpy.node.Node):\n",
    "    def __init__(self, context=None):\n",
    "        super().__init__(\"test_logger_node\", context=context)"
   ]
  },
  {
   "cell_type": "code",
   "execution_count": 3,
   "id": "6095250e-cf49-4f4d-866d-e4d67e406706",
   "metadata": {},
   "outputs": [
    {
     "name": "stdout",
     "output_type": "stream",
     "text": [
      "\u001b[32m>\u001b[36m Starting node 'MyNode'\u001b[0m\n"
     ]
    }
   ],
   "source": [
    "node, executor, context, thread = start_and_spin_node(MyNode, blocking=False)"
   ]
  },
  {
   "cell_type": "markdown",
   "id": "0331e80f-66cc-4b44-b055-2ed1957be05a",
   "metadata": {
    "jp-MarkdownHeadingCollapsed": true
   },
   "source": [
    "## Replace default Logger"
   ]
  },
  {
   "cell_type": "code",
   "execution_count": 4,
   "id": "61f1bb8c-58f7-4f6c-98c7-b12df4268894",
   "metadata": {},
   "outputs": [],
   "source": [
    "from nimbro_utils.lazy import Logger"
   ]
  },
  {
   "cell_type": "code",
   "execution_count": 5,
   "id": "0d1bedc7-fde9-4b10-bd01-85168047e36c",
   "metadata": {},
   "outputs": [],
   "source": [
    "node._logger = Logger(node)"
   ]
  },
  {
   "cell_type": "markdown",
   "id": "088473e5-7e83-451c-a5ec-aacf9cc45ce1",
   "metadata": {},
   "source": [
    "#### The Logger can now be accessed directly or via the the Node's `get_logger()` function."
   ]
  },
  {
   "cell_type": "code",
   "execution_count": 6,
   "id": "f1130a5f-83f6-43e0-8374-ec65e84b0284",
   "metadata": {},
   "outputs": [
    {
     "data": {
      "text/plain": [
       "True"
      ]
     },
     "execution_count": 6,
     "metadata": {},
     "output_type": "execute_result"
    }
   ],
   "source": [
    "node._logger == node.get_logger()"
   ]
  },
  {
   "cell_type": "code",
   "execution_count": 7,
   "id": "a3117336-d8b0-44e6-afee-92c136bfa7c6",
   "metadata": {},
   "outputs": [
    {
     "name": "stdout",
     "output_type": "stream",
     "text": [
      "\u001b[0m2025-09-10 18:42:19.888 [INFO] [test_logger_node]: Hello World!\u001b[0m\n",
      "\u001b[0m2025-09-10 18:42:19.890 [INFO] [test_logger_node]: Hello World!\u001b[0m\n"
     ]
    }
   ],
   "source": [
    "node._logger.info(\"Hello World!\")\n",
    "node.get_logger().info(\"Hello World!\")\n",
    "None # prevents printing return value"
   ]
  },
  {
   "cell_type": "markdown",
   "id": "a076142b-8f43-4c0f-a203-df87dbfc685d",
   "metadata": {},
   "source": [
    "#### The underlying RcutilsLogger can be accessed by using the Logger's `get_logger()` function."
   ]
  },
  {
   "cell_type": "code",
   "execution_count": 8,
   "id": "bdfb5ca1-8eca-4b61-b4c4-56c9c5ab9952",
   "metadata": {},
   "outputs": [
    {
     "name": "stdout",
     "output_type": "stream",
     "text": [
      "Type of 'node.get_logger()': <class 'nimbro_utils.node_extensions.logger.Logger'>\n",
      "Type of 'node._logger.get_logger()': <class 'rclpy.impl.rcutils_logger.RcutilsLogger'>\n"
     ]
    }
   ],
   "source": [
    "print(\"Type of 'node.get_logger()':\", type(node.get_logger()))\n",
    "print(\"Type of 'node._logger.get_logger()':\", type(node._logger.get_logger()))"
   ]
  },
  {
   "cell_type": "markdown",
   "id": "41032069-44cd-4327-ac2d-c567cec730ca",
   "metadata": {},
   "source": [
    "#### A Logger provides the same logging functions and keyword arguments as RcutilsLogger."
   ]
  },
  {
   "cell_type": "code",
   "execution_count": 9,
   "id": "fb0c6fbf-95dc-4d5a-a765-029b2fea61df",
   "metadata": {},
   "outputs": [
    {
     "name": "stdout",
     "output_type": "stream",
     "text": [
      "\u001b[0m2025-09-10 18:42:19.907 [INFO] [test_logger_node]: Testing info()\u001b[0m\n",
      "\u001b[33m2025-09-10 18:42:19.910 [WARN] [test_logger_node]: Testing warn()\u001b[0m\n",
      "\u001b[31m2025-09-10 18:42:19.912 [ERROR] [test_logger_node]: Testing error()\u001b[0m\n",
      "\u001b[31m2025-09-10 18:42:19.914 [FATAL] [test_logger_node]: Testing fatal()\u001b[0m\n"
     ]
    }
   ],
   "source": [
    "node._logger.debug(\"Testing debug()\") # not logged because default severity is 20\n",
    "node._logger.info(\"Testing info()\")\n",
    "node._logger.warn(\"Testing warn()\")\n",
    "node._logger.error(\"Testing error()\")\n",
    "node._logger.fatal(\"Testing fatal()\")\n",
    "None"
   ]
  },
  {
   "cell_type": "code",
   "execution_count": 10,
   "id": "62628dd8-5443-46d4-8059-8a6f3f27ff0a",
   "metadata": {},
   "outputs": [
    {
     "name": "stdout",
     "output_type": "stream",
     "text": [
      "\u001b[0m2025-09-10 18:42:19.925 [INFO] [test_logger_node]: Testing once\u001b[0m\n",
      "\u001b[0m2025-09-10 18:42:19.929 [INFO] [test_logger_node]: Testing throttle_duration_sec\u001b[0m\n"
     ]
    }
   ],
   "source": [
    "node._logger.info(\"Testing once\", once=True)\n",
    "node._logger.info(\"Testing skip_first\", skip_first=True)\n",
    "node._logger.info(\"Testing throttle_duration_sec\", throttle_duration_sec=5.0)\n",
    "None"
   ]
  },
  {
   "cell_type": "markdown",
   "id": "efa0efa6-4d7d-4032-8e73-3e2c6680e675",
   "metadata": {},
   "source": [
    "#### The Logger's settings can be obtained via `get_settings()` and updated via `set_settings()`."
   ]
  },
  {
   "cell_type": "code",
   "execution_count": 11,
   "id": "b0f33b4a-ff56-4f33-ba26-aaf076005fb8",
   "metadata": {},
   "outputs": [
    {
     "data": {
      "text/plain": [
       "False"
      ]
     },
     "execution_count": 11,
     "metadata": {},
     "output_type": "execute_result"
    }
   ],
   "source": [
    "node._logger.debug(\"Testing debug()\") # returns False because it is not logged"
   ]
  },
  {
   "cell_type": "code",
   "execution_count": 12,
   "id": "59b04ff9-4c9f-4ce0-9b47-833e2a8e4220",
   "metadata": {},
   "outputs": [
    {
     "data": {
      "text/plain": [
       "{'severity': 20, 'prefix': None, 'name': None, 'settings_debug': False}"
      ]
     },
     "execution_count": 12,
     "metadata": {},
     "output_type": "execute_result"
    }
   ],
   "source": [
    "node._logger.get_settings()"
   ]
  },
  {
   "cell_type": "code",
   "execution_count": 13,
   "id": "7739a40c-7e59-4874-a51a-f20029eed6ea",
   "metadata": {},
   "outputs": [],
   "source": [
    "node._logger.set_settings({'severity': 10})"
   ]
  },
  {
   "cell_type": "code",
   "execution_count": 14,
   "id": "2d22ce17-5301-42e7-93ea-da1c80bea3e8",
   "metadata": {},
   "outputs": [
    {
     "name": "stdout",
     "output_type": "stream",
     "text": [
      "\u001b[32m2025-09-10 18:42:19.966 [DEBUG] [test_logger_node]: Testing debug()\u001b[0m\n"
     ]
    },
    {
     "data": {
      "text/plain": [
       "True"
      ]
     },
     "execution_count": 14,
     "metadata": {},
     "output_type": "execute_result"
    }
   ],
   "source": [
    "node._logger.debug(\"Testing debug()\")"
   ]
  },
  {
   "cell_type": "markdown",
   "id": "a5ebd5f0-bc5b-4c1d-ace9-4149492f3746",
   "metadata": {
    "jp-MarkdownHeadingCollapsed": true
   },
   "source": [
    "## Add additional Loggers"
   ]
  },
  {
   "cell_type": "code",
   "execution_count": 15,
   "id": "05b3e29f-9748-4c35-999a-3e93199804d5",
   "metadata": {},
   "outputs": [],
   "source": [
    "node.second_logger = Logger(node, settings={'name': \"test\"})"
   ]
  },
  {
   "cell_type": "code",
   "execution_count": 16,
   "id": "af88d1ab-888f-4de3-8b28-00355b607d7a",
   "metadata": {},
   "outputs": [
    {
     "name": "stdout",
     "output_type": "stream",
     "text": [
      "\u001b[0m2025-09-10 18:42:19.986 [INFO] [test_logger_node.test]: Hello from another Logger!\u001b[0m\n"
     ]
    }
   ],
   "source": [
    "node.second_logger.info(\"Hello from another Logger!\")\n",
    "None"
   ]
  },
  {
   "cell_type": "markdown",
   "id": "aeb87d8e-7bf6-4654-9e63-35aea9f88222",
   "metadata": {},
   "source": [
    "#### By default, the Node name is used as prefix, which can be overwritten (either name or prefix is required)."
   ]
  },
  {
   "cell_type": "code",
   "execution_count": 17,
   "id": "df96e5a8-df07-4c60-ac02-954597fbb20c",
   "metadata": {},
   "outputs": [],
   "source": [
    "node.second_logger.set_settings({'prefix': \"\"})"
   ]
  },
  {
   "cell_type": "code",
   "execution_count": 18,
   "id": "b3fd891c-c2fb-40c5-b8fb-7846f3afd079",
   "metadata": {},
   "outputs": [
    {
     "name": "stdout",
     "output_type": "stream",
     "text": [
      "\u001b[0m2025-09-10 18:42:20.404 [INFO] [test]: Hello without a prefix!\u001b[0m\n"
     ]
    }
   ],
   "source": [
    "node.second_logger.info(\"Hello without a prefix!\")\n",
    "None"
   ]
  },
  {
   "cell_type": "markdown",
   "id": "1ef30853-d524-46a4-90fc-2f7578fc97fc",
   "metadata": {},
   "source": [
    "#### The severity and name of a Logger can be linked to another Logger."
   ]
  },
  {
   "cell_type": "code",
   "execution_count": 19,
   "id": "493ad040-cc18-42b5-a364-b320e7ab0ab8",
   "metadata": {},
   "outputs": [],
   "source": [
    "node.logger_one = Logger(node, settings={'severity': 20, 'name': \"one\"})"
   ]
  },
  {
   "cell_type": "code",
   "execution_count": 20,
   "id": "4109f086-4b4b-4229-8a5a-2e31f3318838",
   "metadata": {},
   "outputs": [
    {
     "name": "stdout",
     "output_type": "stream",
     "text": [
      "\u001b[0m2025-09-10 18:42:20.202 [INFO] [test_logger_node.one]: Test\u001b[0m\n"
     ]
    }
   ],
   "source": [
    "node.logger_one.info(\"Test\")\n",
    "None"
   ]
  },
  {
   "cell_type": "code",
   "execution_count": 21,
   "id": "554a0da6-90e6-4980-85c9-95316b16ecdd",
   "metadata": {},
   "outputs": [],
   "source": [
    "node.logger_two = Logger(node, settings={'severity': \"logger_one\", 'prefix': \"logger_one\", 'name': \"two\"})"
   ]
  },
  {
   "cell_type": "code",
   "execution_count": 22,
   "id": "d129e9b1-0df3-4614-8361-90d2ba5274db",
   "metadata": {},
   "outputs": [
    {
     "name": "stdout",
     "output_type": "stream",
     "text": [
      "\u001b[0m2025-09-10 18:42:20.384 [INFO] [test_logger_node.one.two]: Test\u001b[0m\n"
     ]
    }
   ],
   "source": [
    "node.logger_two.info(\"Test\")\n",
    "None"
   ]
  },
  {
   "cell_type": "code",
   "execution_count": 23,
   "id": "4754a09f-e12a-4f9f-beca-1288f7eaa170",
   "metadata": {},
   "outputs": [
    {
     "name": "stdout",
     "output_type": "stream",
     "text": [
      "Name of Logger 2: test_logger_node.one.two\n",
      "Severity of Logger 2: 20\n",
      "\n",
      "Name of Logger 2 after setting Logger 1: test_logger_node.one_edit.two\n",
      "Severity of Logger 2 after setting Logger 1: 10\n"
     ]
    }
   ],
   "source": [
    "print(\"Name of Logger 2:\", node.logger_two.get_name())\n",
    "print(\"Severity of Logger 2:\", node.logger_two.get_severity())\n",
    "\n",
    "node.logger_one.set_settings({'severity': 10, 'name': \"one_edit\"})\n",
    "print()\n",
    "\n",
    "print(\"Name of Logger 2 after setting Logger 1:\", node.logger_two.get_name())\n",
    "print(\"Severity of Logger 2 after setting Logger 1:\", node.logger_two.get_severity())"
   ]
  },
  {
   "cell_type": "code",
   "execution_count": 24,
   "id": "89d01090-6a58-403e-a681-c45e19e7fe6c",
   "metadata": {},
   "outputs": [
    {
     "name": "stdout",
     "output_type": "stream",
     "text": [
      "\u001b[32m2025-09-10 18:42:20.640 [DEBUG] [test_logger_node.one_edit.two]: Test\u001b[0m\n"
     ]
    }
   ],
   "source": [
    "node.logger_two.debug(\"Test\")\n",
    "None"
   ]
  },
  {
   "cell_type": "markdown",
   "id": "09af4084-d632-470e-925c-306667bd9323",
   "metadata": {
    "jp-MarkdownHeadingCollapsed": true
   },
   "source": [
    "## Stop Node"
   ]
  },
  {
   "cell_type": "code",
   "execution_count": 25,
   "id": "d9b47b63-2de1-4eba-a672-5fbd6851a981",
   "metadata": {},
   "outputs": [
    {
     "name": "stdout",
     "output_type": "stream",
     "text": [
      "\u001b[31m> \u001b[36mStopped node 'MyNode'\u001b[0m\n"
     ]
    }
   ],
   "source": [
    "stop_node(node, executor, context, thread)"
   ]
  }
 ],
 "metadata": {
  "kernelspec": {
   "display_name": "Python 3 (ipykernel)",
   "language": "python",
   "name": "python3"
  },
  "language_info": {
   "codemirror_mode": {
    "name": "ipython",
    "version": 3
   },
   "file_extension": ".py",
   "mimetype": "text/x-python",
   "name": "python",
   "nbconvert_exporter": "python",
   "pygments_lexer": "ipython3",
   "version": "3.12.3"
  }
 },
 "nbformat": 4,
 "nbformat_minor": 5
}
