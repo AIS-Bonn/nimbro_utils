{
 "cells": [
  {
   "cell_type": "markdown",
   "id": "006626fe-d308-461b-ab5a-ba29f262ad37",
   "metadata": {
    "jp-MarkdownHeadingCollapsed": true
   },
   "source": [
    "## Start Node"
   ]
  },
  {
   "cell_type": "code",
   "execution_count": 1,
   "id": "17f31b0e-223c-4ba0-926f-e810dd9ff816",
   "metadata": {},
   "outputs": [],
   "source": [
    "import rclpy\n",
    "from nimbro_utils.lazy import start_and_spin_node, stop_node"
   ]
  },
  {
   "cell_type": "code",
   "execution_count": 2,
   "id": "9d6dcc03-ec1d-4d9b-8640-198c4085b917",
   "metadata": {},
   "outputs": [],
   "source": [
    "class MyNode(rclpy.node.Node):\n",
    "    def __init__(self, context=None):\n",
    "        super().__init__(\"test_tf_oracle_node\", context=context)"
   ]
  },
  {
   "cell_type": "code",
   "execution_count": 3,
   "id": "37f2965c-44e7-46ba-865c-ef2913e3de57",
   "metadata": {},
   "outputs": [
    {
     "name": "stdout",
     "output_type": "stream",
     "text": [
      "\u001b[32m>\u001b[36m Starting node 'MyNode'\u001b[0m\n"
     ]
    }
   ],
   "source": [
    "node, executor, context, thread = start_and_spin_node(MyNode, blocking=False)"
   ]
  },
  {
   "cell_type": "markdown",
   "id": "d35386cb-782c-40eb-b12c-2b24ecfa4bcf",
   "metadata": {
    "jp-MarkdownHeadingCollapsed": true
   },
   "source": [
    "## Add TfOracle"
   ]
  },
  {
   "cell_type": "code",
   "execution_count": 4,
   "id": "fb4ba967-a082-4e03-9a02-71d24831d0c8",
   "metadata": {},
   "outputs": [],
   "source": [
    "from nimbro_utils.lazy import TfOracle"
   ]
  },
  {
   "cell_type": "code",
   "execution_count": 5,
   "id": "87c9a938-d9d6-4ae1-b647-42f5b8577420",
   "metadata": {},
   "outputs": [],
   "source": [
    "node.tf_oracle = TfOracle(node)"
   ]
  },
  {
   "cell_type": "markdown",
   "id": "fa1e63a5-bd95-4ec3-a954-3865650421d5",
   "metadata": {},
   "source": [
    "#### The TfOracle's settings can be obtained via `get_settings()` and updated via `set_settings()`."
   ]
  },
  {
   "cell_type": "code",
   "execution_count": 6,
   "id": "1f9ce9f3-c277-4274-b113-92da606bc404",
   "metadata": {},
   "outputs": [
    {
     "data": {
      "text/plain": [
       "{'severity': 20,\n",
       " 'suffix': 'tf_oracle',\n",
       " 'tf_buffer': 'tf_buffer',\n",
       " 'tf_listener': 'tf_listener'}"
      ]
     },
     "execution_count": 6,
     "metadata": {},
     "output_type": "execute_result"
    }
   ],
   "source": [
    "node.tf_oracle.get_settings()"
   ]
  },
  {
   "cell_type": "code",
   "execution_count": 7,
   "id": "40c150f4-6b9d-4066-9edb-5935fe7cd64e",
   "metadata": {},
   "outputs": [],
   "source": [
    "node.tf_oracle.set_settings(settings={'severity': 20})"
   ]
  },
  {
   "cell_type": "markdown",
   "id": "0d2a2b34-7453-436e-805c-03e302c8142e",
   "metadata": {
    "jp-MarkdownHeadingCollapsed": true
   },
   "source": [
    "## Get transform"
   ]
  },
  {
   "cell_type": "code",
   "execution_count": 8,
   "id": "acdc9cca-dc0a-4fc7-8d7e-869d8bf50294",
   "metadata": {},
   "outputs": [],
   "source": [
    "success, message, transform = node.tf_oracle.get_transform(\n",
    "    source_frame=\"gemini_color_optical_frame\",\n",
    "    target_frame=\"gemini_link\",\n",
    "    target_format=\"TransformStamped\", # default\n",
    "    mute_lookup_error=False, # default\n",
    "    time=None, # default\n",
    "    max_age=None, # default\n",
    "    timeout=1.0 # default\n",
    ")"
   ]
  },
  {
   "cell_type": "code",
   "execution_count": 9,
   "id": "3630b8d2-fd66-454c-b9f9-428c64e8f3b4",
   "metadata": {},
   "outputs": [
    {
     "name": "stdout",
     "output_type": "stream",
     "text": [
      "True\n",
      "Looked up '1757522721.659s' old transform from 'gemini_color_optical_frame' to 'gemini_link' in format 'TransformStamped' after waiting '0.000s'.\n",
      "geometry_msgs.msg.TransformStamped(header=std_msgs.msg.Header(stamp=builtin_interfaces.msg.Time(sec=0, nanosec=0), frame_id='gemini_link'), child_frame_id='gemini_color_optical_frame', transform=geometry_msgs.msg.Transform(translation=geometry_msgs.msg.Vector3(x=0.001982434391975403, y=-0.014101850509643554, z=-8.649254590272904e-05), rotation=geometry_msgs.msg.Quaternion(x=-0.49786300261868527, y=0.5014592046254752, z=-0.4984931680273193, w=0.5021709451471476)))\n"
     ]
    }
   ],
   "source": [
    "print(success)\n",
    "print(message)\n",
    "print(transform)"
   ]
  },
  {
   "cell_type": "markdown",
   "id": "97bf837e-b2f5-458d-9227-578483575d9a",
   "metadata": {
    "jp-MarkdownHeadingCollapsed": true
   },
   "source": [
    "## Obtain frames as PointStamped"
   ]
  },
  {
   "cell_type": "code",
   "execution_count": 10,
   "id": "70f40d7e-ae2b-4de2-9b55-1152d9e68800",
   "metadata": {},
   "outputs": [],
   "source": [
    "success, message, point_color = node.tf_oracle.get_transform(\n",
    "    source_frame=\"gemini_color_optical_frame\",\n",
    "    target_frame=\"gemini_link\",\n",
    "    target_format=\"PointStamped\",\n",
    "    mute_lookup_error=False, # default\n",
    "    time=None, # default\n",
    "    max_age=None, # default\n",
    "    timeout=1.0 # default\n",
    ")"
   ]
  },
  {
   "cell_type": "code",
   "execution_count": 11,
   "id": "6d9bbd91-acc6-48cc-9c09-d945496a89b3",
   "metadata": {},
   "outputs": [
    {
     "name": "stdout",
     "output_type": "stream",
     "text": [
      "True\n",
      "Looked up '1757522721.677s' old transform from 'gemini_color_optical_frame' to 'gemini_link' in format 'PointStamped' after waiting '0.000s'.\n",
      "geometry_msgs.msg.PointStamped(header=std_msgs.msg.Header(stamp=builtin_interfaces.msg.Time(sec=0, nanosec=0), frame_id='gemini_link'), point=geometry_msgs.msg.Point(x=0.001982434391975403, y=-0.014101850509643554, z=-8.649254590272904e-05))\n"
     ]
    }
   ],
   "source": [
    "print(success)\n",
    "print(message)\n",
    "print(point_color)"
   ]
  },
  {
   "cell_type": "code",
   "execution_count": 12,
   "id": "a2fc73fc-d02f-4dd2-b47b-140d31177d80",
   "metadata": {},
   "outputs": [],
   "source": [
    "success, message, point_depth = node.tf_oracle.get_transform(\n",
    "    source_frame=\"gemini_depth_optical_frame\",\n",
    "    target_frame=\"gemini_link\",\n",
    "    target_format=\"PointStamped\",\n",
    "    mute_lookup_error=False, # default\n",
    "    time=None, # default\n",
    "    max_age=None, # default\n",
    "    timeout=1.0 # default\n",
    ")"
   ]
  },
  {
   "cell_type": "code",
   "execution_count": 13,
   "id": "60ba6045-4127-44dd-95f9-1d93b53884f2",
   "metadata": {},
   "outputs": [
    {
     "name": "stdout",
     "output_type": "stream",
     "text": [
      "True\n",
      "Looked up '1757522721.699s' old transform from 'gemini_depth_optical_frame' to 'gemini_link' in format 'PointStamped' after waiting '0.000s'.\n",
      "geometry_msgs.msg.PointStamped(header=std_msgs.msg.Header(stamp=builtin_interfaces.msg.Time(sec=0, nanosec=0), frame_id='gemini_link'), point=geometry_msgs.msg.Point(x=0.0, y=0.0, z=0.0))\n"
     ]
    }
   ],
   "source": [
    "print(success)\n",
    "print(message)\n",
    "print(point_depth)"
   ]
  },
  {
   "cell_type": "markdown",
   "id": "001bca31-4c8b-43c0-91ca-474b39d59991",
   "metadata": {
    "jp-MarkdownHeadingCollapsed": true
   },
   "source": [
    "## Transorm to different frame"
   ]
  },
  {
   "cell_type": "code",
   "execution_count": 14,
   "id": "545f0b46-d7e4-4fe5-8f5f-1d24e8db5c59",
   "metadata": {},
   "outputs": [],
   "source": [
    "success, message, point_depth_transformed = node.tf_oracle.transform_to_frame(\n",
    "    point_or_pose_or_cloud=point_depth,\n",
    "    target_frame=\"gemini_depth_optical_frame\"\n",
    ")"
   ]
  },
  {
   "cell_type": "code",
   "execution_count": 15,
   "id": "46f6869d-f3c9-45d0-a6d0-edee2fa0a79c",
   "metadata": {},
   "outputs": [
    {
     "name": "stdout",
     "output_type": "stream",
     "text": [
      "True\n",
      "Transformed provided geometry message from frame 'gemini_link' to frame 'gemini_depth_optical_frame'.\n",
      "geometry_msgs.msg.PointStamped(header=std_msgs.msg.Header(stamp=builtin_interfaces.msg.Time(sec=0, nanosec=0), frame_id='gemini_depth_optical_frame'), point=geometry_msgs.msg.Point(x=0.0, y=0.0, z=0.0))\n"
     ]
    }
   ],
   "source": [
    "print(success)\n",
    "print(message)\n",
    "print(point_depth_transformed)"
   ]
  },
  {
   "cell_type": "markdown",
   "id": "fb379589-9a45-4b8b-8599-da813be18fca",
   "metadata": {
    "jp-MarkdownHeadingCollapsed": true
   },
   "source": [
    "## Measure distance between frames"
   ]
  },
  {
   "cell_type": "code",
   "execution_count": 16,
   "id": "a8e44932-1635-4977-80bd-4c0c3a09276a",
   "metadata": {},
   "outputs": [],
   "source": [
    "success, message, distance = node.tf_oracle.get_distance(\n",
    "    point_or_pose_a=point_color,\n",
    "    point_or_pose_b=point_depth,\n",
    "    # point_or_pose_a=\"gemini_color_optical_frame\",\n",
    "    # point_or_pose_b=\"gemini_depth_optical_frame\",\n",
    ")"
   ]
  },
  {
   "cell_type": "code",
   "execution_count": 17,
   "id": "2e85de16-2747-4b90-821a-266b9b899a18",
   "metadata": {},
   "outputs": [
    {
     "name": "stdout",
     "output_type": "stream",
     "text": [
      "True\n",
      "The distance between the two points is '0.014m'.\n",
      "0.014240776484283355\n"
     ]
    }
   ],
   "source": [
    "print(success)\n",
    "print(message)\n",
    "print(distance)"
   ]
  },
  {
   "cell_type": "markdown",
   "id": "5d2dedf0-e2fa-4152-93e0-df92ecd3d685",
   "metadata": {
    "jp-MarkdownHeadingCollapsed": true
   },
   "source": [
    "## Interpolate between frames"
   ]
  },
  {
   "cell_type": "code",
   "execution_count": 18,
   "id": "619df83f-5e0d-4231-8362-3950d850c15f",
   "metadata": {},
   "outputs": [],
   "source": [
    "success, message, interpolated_point = node.tf_oracle.get_interpolation(\n",
    "    # point_or_pose_a=point_color,\n",
    "    # point_or_pose_b=point_depth,\n",
    "    point_or_pose_a=\"gemini_color_optical_frame\",\n",
    "    point_or_pose_b=\"gemini_depth_optical_frame\",\n",
    "    mode='mix', # default\n",
    "    x=0.5 # default\n",
    ")"
   ]
  },
  {
   "cell_type": "code",
   "execution_count": 19,
   "id": "031796f9-c273-41e9-94f9-85bef6c8bb84",
   "metadata": {},
   "outputs": [
    {
     "name": "stdout",
     "output_type": "stream",
     "text": [
      "True\n",
      "Successfully interpolated between two points using mode 'mix' with parameter '0.5'.\n",
      "geometry_msgs.msg.PointStamped(header=std_msgs.msg.Header(stamp=builtin_interfaces.msg.Time(sec=0, nanosec=0), frame_id='gemini_color_optical_frame'), point=geometry_msgs.msg.Point(x=-0.007051138960114438, y=6.71341127336713e-06, z=-0.0009906174913127746))\n"
     ]
    }
   ],
   "source": [
    "print(success)\n",
    "print(message)\n",
    "print(interpolated_point)"
   ]
  },
  {
   "cell_type": "markdown",
   "id": "976c92d5-094c-4392-9322-43f2f8f835eb",
   "metadata": {
    "jp-MarkdownHeadingCollapsed": true
   },
   "source": [
    "## Stop Node"
   ]
  },
  {
   "cell_type": "code",
   "execution_count": 20,
   "id": "5051ea53-5c31-44f9-a556-927f7a14364d",
   "metadata": {},
   "outputs": [
    {
     "name": "stdout",
     "output_type": "stream",
     "text": [
      "\u001b[31m> \u001b[36mStopped node 'MyNode'\u001b[0m\n"
     ]
    }
   ],
   "source": [
    "stop_node(node, executor, context, thread)"
   ]
  }
 ],
 "metadata": {
  "kernelspec": {
   "display_name": "Python 3 (ipykernel)",
   "language": "python",
   "name": "python3"
  },
  "language_info": {
   "codemirror_mode": {
    "name": "ipython",
    "version": 3
   },
   "file_extension": ".py",
   "mimetype": "text/x-python",
   "name": "python",
   "nbconvert_exporter": "python",
   "pygments_lexer": "ipython3",
   "version": "3.12.3"
  }
 },
 "nbformat": 4,
 "nbformat_minor": 5
}
