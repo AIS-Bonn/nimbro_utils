{
 "cells": [
  {
   "cell_type": "markdown",
   "id": "d1f26335-fbfc-43b5-a6d0-f93718184900",
   "metadata": {
    "jp-MarkdownHeadingCollapsed": true
   },
   "source": [
    "## Start Node"
   ]
  },
  {
   "cell_type": "code",
   "execution_count": 1,
   "id": "17f31b0e-223c-4ba0-926f-e810dd9ff816",
   "metadata": {},
   "outputs": [],
   "source": [
    "import rclpy\n",
    "from nimbro_utils.lazy import start_and_spin_node, stop_node"
   ]
  },
  {
   "cell_type": "code",
   "execution_count": 2,
   "id": "9d6dcc03-ec1d-4d9b-8640-198c4085b917",
   "metadata": {},
   "outputs": [],
   "source": [
    "class MyNode(rclpy.node.Node):\n",
    "    def __init__(self, context=None):\n",
    "        super().__init__(\"test_parameter_handler_node\", context=context)"
   ]
  },
  {
   "cell_type": "code",
   "execution_count": 3,
   "id": "37f2965c-44e7-46ba-865c-ef2913e3de57",
   "metadata": {},
   "outputs": [
    {
     "name": "stdout",
     "output_type": "stream",
     "text": [
      "\u001b[32m>\u001b[36m Starting node 'MyNode'\u001b[0m\n"
     ]
    }
   ],
   "source": [
    "node, executor, context, thread = start_and_spin_node(MyNode, blocking=False)"
   ]
  },
  {
   "cell_type": "markdown",
   "id": "8f96b6cc-19af-4bdb-8ceb-d75ea4c40d22",
   "metadata": {
    "jp-MarkdownHeadingCollapsed": true
   },
   "source": [
    "## Add ParameterHandler"
   ]
  },
  {
   "cell_type": "code",
   "execution_count": 4,
   "id": "9760e603-b1ba-462f-9372-a2cffbb6b416",
   "metadata": {},
   "outputs": [],
   "source": [
    "from nimbro_utils.lazy import ParameterHandler"
   ]
  },
  {
   "cell_type": "code",
   "execution_count": 5,
   "id": "6dba6bdb-d076-475e-8aec-6eb4df87b994",
   "metadata": {
    "scrolled": true
   },
   "outputs": [],
   "source": [
    "node.parameter_handler = ParameterHandler(node)"
   ]
  },
  {
   "cell_type": "markdown",
   "id": "08ba5827-b931-458e-9957-c7f09861c8ad",
   "metadata": {},
   "source": [
    "#### The ParameterHandler's settings can be obtained via `get_settings()` and updated via `set_settings()`."
   ]
  },
  {
   "cell_type": "code",
   "execution_count": 6,
   "id": "1f9ce9f3-c277-4274-b113-92da606bc404",
   "metadata": {},
   "outputs": [
    {
     "data": {
      "text/plain": [
       "{'severity': 20,\n",
       " 'log_init_as_debug': True,\n",
       " 'suffix': 'parameters',\n",
       " 'parameters_container': 'parameters',\n",
       " 'filter_callback': 'filter_parameter',\n",
       " 'require_filter_callback': False}"
      ]
     },
     "execution_count": 6,
     "metadata": {},
     "output_type": "execute_result"
    }
   ],
   "source": [
    "node.parameter_handler.get_settings()"
   ]
  },
  {
   "cell_type": "code",
   "execution_count": 7,
   "id": "df9ea6ca-28d4-4414-98b2-6bb648419d0d",
   "metadata": {},
   "outputs": [],
   "source": [
    "node.parameter_handler.set_settings({'log_init_as_debug': False})"
   ]
  },
  {
   "cell_type": "markdown",
   "id": "733540d4-11b0-492c-803b-e55fc4317018",
   "metadata": {},
   "source": [
    "#### Parameter declarations and updates can be activated and deactivated."
   ]
  },
  {
   "cell_type": "code",
   "execution_count": 8,
   "id": "dcaa258c-5ce0-4547-921a-1b821ed7580f",
   "metadata": {},
   "outputs": [
    {
     "data": {
      "text/plain": [
       "True"
      ]
     },
     "execution_count": 8,
     "metadata": {},
     "output_type": "execute_result"
    }
   ],
   "source": [
    "node.parameter_handler.declarations_activated() # default is True"
   ]
  },
  {
   "cell_type": "code",
   "execution_count": 9,
   "id": "744c292b-2e98-4425-9956-444bd50d23d3",
   "metadata": {},
   "outputs": [
    {
     "name": "stdout",
     "output_type": "stream",
     "text": [
      "\u001b[0m2025-09-10 18:42:43.277 [INFO] [test_parameter_handler_node.parameters]: Declaring parameters deactivated\u001b[0m\n"
     ]
    }
   ],
   "source": [
    "node.parameter_handler.deactivate_declarations()"
   ]
  },
  {
   "cell_type": "code",
   "execution_count": 10,
   "id": "a680f6c7-184d-49aa-980c-f09a99599075",
   "metadata": {},
   "outputs": [
    {
     "name": "stdout",
     "output_type": "stream",
     "text": [
      "\u001b[0m2025-09-10 18:42:43.287 [INFO] [test_parameter_handler_node.parameters]: Declaring parameters activated\u001b[0m\n"
     ]
    }
   ],
   "source": [
    "node.parameter_handler.activate_declarations()"
   ]
  },
  {
   "cell_type": "code",
   "execution_count": 11,
   "id": "752ccd4c-975f-4bbc-93ca-beefd9c6b99d",
   "metadata": {},
   "outputs": [
    {
     "data": {
      "text/plain": [
       "True"
      ]
     },
     "execution_count": 11,
     "metadata": {},
     "output_type": "execute_result"
    }
   ],
   "source": [
    "node.parameter_handler.updates_activated() # default is True"
   ]
  },
  {
   "cell_type": "code",
   "execution_count": 12,
   "id": "14cfca01-84ce-4e9e-8043-b50b7b2c1e8c",
   "metadata": {},
   "outputs": [
    {
     "name": "stdout",
     "output_type": "stream",
     "text": [
      "\u001b[0m2025-09-10 18:42:43.313 [INFO] [test_parameter_handler_node.parameters]: Updating parameters deactivated\u001b[0m\n"
     ]
    }
   ],
   "source": [
    "node.parameter_handler.deactivate_updates()"
   ]
  },
  {
   "cell_type": "code",
   "execution_count": 13,
   "id": "e9621ee5-5629-45d6-ac26-84cf0a373a09",
   "metadata": {},
   "outputs": [
    {
     "name": "stdout",
     "output_type": "stream",
     "text": [
      "\u001b[0m2025-09-10 18:42:43.323 [INFO] [test_parameter_handler_node.parameters]: Updating parameters activated\u001b[0m\n"
     ]
    }
   ],
   "source": [
    "node.parameter_handler.activate_updates()"
   ]
  },
  {
   "cell_type": "markdown",
   "id": "9aa56fd3-d23d-4795-8bcb-7169072cacee",
   "metadata": {
    "jp-MarkdownHeadingCollapsed": true
   },
   "source": [
    "## Declare parameters"
   ]
  },
  {
   "cell_type": "code",
   "execution_count": 14,
   "id": "dd5f2487-49ba-4da6-b8a4-f6370370f18f",
   "metadata": {},
   "outputs": [
    {
     "name": "stdout",
     "output_type": "stream",
     "text": [
      "\u001b[0m2025-09-10 18:42:43.339 [INFO] [test_parameter_handler_node.parameters]: Parameter 'param_not_set' initialized to 'None'.\u001b[0m\n",
      "\u001b[0m2025-09-10 18:42:43.342 [INFO] [test_parameter_handler_node.parameters]: Parameter 'param_bool' initialized to 'False'.\u001b[0m\n",
      "\u001b[0m2025-09-10 18:42:43.345 [INFO] [test_parameter_handler_node.parameters]: Parameter 'param_int' initialized to '7'.\u001b[0m\n",
      "\u001b[0m2025-09-10 18:42:43.348 [INFO] [test_parameter_handler_node.parameters]: Parameter 'param_float' initialized to '4.2'.\u001b[0m\n",
      "\u001b[0m2025-09-10 18:42:43.350 [INFO] [test_parameter_handler_node.parameters]: Parameter 'param_str' initialized to 'Hello'.\u001b[0m\n",
      "\u001b[0m2025-09-10 18:42:43.353 [INFO] [test_parameter_handler_node.parameters]: Parameter 'param_list_bytes' initialized to '[b'\\x01', b'\\x02', b'\\xff', b'\\x10']'.\u001b[0m\n",
      "\u001b[0m2025-09-10 18:42:43.357 [INFO] [test_parameter_handler_node.parameters]: Parameter 'param_list_bool' initialized to '[True, False]'.\u001b[0m\n",
      "\u001b[0m2025-09-10 18:42:43.361 [INFO] [test_parameter_handler_node.parameters]: Parameter 'param_list_int' initialized to '[1, 2, 3]'.\u001b[0m\n",
      "\u001b[0m2025-09-10 18:42:43.364 [INFO] [test_parameter_handler_node.parameters]: Parameter 'param_list_float' initialized to '[3.1, 4.1, 5.9]'.\u001b[0m\n",
      "\u001b[0m2025-09-10 18:42:43.368 [INFO] [test_parameter_handler_node.parameters]: Parameter 'param_list_str' initialized to '['H', 'e', 'l', 'l', 'o']'.\u001b[0m\n"
     ]
    }
   ],
   "source": [
    "node.parameter_handler.declare(name=\"param_not_set\",    dtype=None,        default_value=None)\n",
    "node.parameter_handler.declare(name=\"param_bool\",       dtype=bool,        default_value=False)\n",
    "node.parameter_handler.declare(name=\"param_int\",        dtype=int,         default_value=7, range_min=0, range_max=9, range_step=1, read_only=False) # default is read_only=True\n",
    "node.parameter_handler.declare(name=\"param_float\",      dtype=float,       default_value=4.2)\n",
    "node.parameter_handler.declare(name=\"param_str\",        dtype=str,         default_value=\"Hello\", read_only=False)\n",
    "node.parameter_handler.declare(name=\"param_list_bytes\", dtype=list[bytes], default_value=[b'\\x01', b'\\x02', b'\\xff', b'\\x10'])\n",
    "node.parameter_handler.declare(name=\"param_list_bool\",  dtype=list[bool],  default_value=[True, False])\n",
    "node.parameter_handler.declare(name=\"param_list_int\",   dtype=list[int],   default_value=[1, 2, 3], read_only=False)\n",
    "node.parameter_handler.declare(name=\"param_list_float\", dtype=list[float], default_value=[3.1, 4.1, 5.9])\n",
    "node.parameter_handler.declare(name=\"param_list_str\",   dtype=list[str],   default_value=[\"H\", \"e\", \"l\", \"l\", \"o\"])"
   ]
  },
  {
   "cell_type": "markdown",
   "id": "a8f752f8-f31c-4f64-af2d-1b95fd9dd733",
   "metadata": {
    "jp-MarkdownHeadingCollapsed": true
   },
   "source": [
    "## Access parameters"
   ]
  },
  {
   "cell_type": "markdown",
   "id": "e3207e46-7b31-45ba-a126-18ddb3094899",
   "metadata": {},
   "source": [
    "#### The name of Node attribute holding the parameter values ('parameters') is defined by the setting 'parameters_container'."
   ]
  },
  {
   "cell_type": "code",
   "execution_count": 15,
   "id": "944c2559-49e4-4446-951c-018295bb56ec",
   "metadata": {},
   "outputs": [
    {
     "data": {
      "text/plain": [
       "{'param_not_set': None,\n",
       " 'param_bool': False,\n",
       " 'param_int': 7,\n",
       " 'param_float': 4.2,\n",
       " 'param_str': 'Hello',\n",
       " 'param_list_bytes': [b'\\x01', b'\\x02', b'\\xff', b'\\x10'],\n",
       " 'param_list_bool': [True, False],\n",
       " 'param_list_int': [1, 2, 3],\n",
       " 'param_list_float': [3.1, 4.1, 5.9],\n",
       " 'param_list_str': ['H', 'e', 'l', 'l', 'o']}"
      ]
     },
     "execution_count": 15,
     "metadata": {},
     "output_type": "execute_result"
    }
   ],
   "source": [
    "node.parameters.get()"
   ]
  },
  {
   "cell_type": "code",
   "execution_count": 16,
   "id": "0886ceb9-a293-4d04-abd5-6e2540294008",
   "metadata": {},
   "outputs": [
    {
     "data": {
      "text/plain": [
       "True"
      ]
     },
     "execution_count": 16,
     "metadata": {},
     "output_type": "execute_result"
    }
   ],
   "source": [
    "\"param_int\" in node.parameters"
   ]
  },
  {
   "cell_type": "code",
   "execution_count": 17,
   "id": "e597082c-5beb-470b-982e-6566a601f5ff",
   "metadata": {},
   "outputs": [
    {
     "data": {
      "text/plain": [
       "7"
      ]
     },
     "execution_count": 17,
     "metadata": {},
     "output_type": "execute_result"
    }
   ],
   "source": [
    "node.parameters.param_int"
   ]
  },
  {
   "cell_type": "code",
   "execution_count": 18,
   "id": "ecd66c8c-344a-4276-8fa2-3bb056264bca",
   "metadata": {},
   "outputs": [
    {
     "data": {
      "text/plain": [
       "7"
      ]
     },
     "execution_count": 18,
     "metadata": {},
     "output_type": "execute_result"
    }
   ],
   "source": [
    "node.parameters['param_int']"
   ]
  },
  {
   "cell_type": "markdown",
   "id": "dcd700da-a0c1-4719-817e-0d73861da84f",
   "metadata": {
    "jp-MarkdownHeadingCollapsed": true
   },
   "source": [
    "## Update parameters"
   ]
  },
  {
   "cell_type": "code",
   "execution_count": 19,
   "id": "a1e8b58f-81f4-450b-8917-252547e96597",
   "metadata": {},
   "outputs": [
    {
     "name": "stdout",
     "output_type": "stream",
     "text": [
      "\u001b[31m2025-09-10 18:42:43.418 [ERROR] [test_parameter_handler_node.parameters]: Rejected attempt to update parameter 'param_int' to 'this is not an int': ValueError(Type 'Type.INTEGER' and value 'this is not an int' do not agree)\u001b[0m\n"
     ]
    },
    {
     "data": {
      "text/plain": [
       "(False,\n",
       " \"Rejected attempt to update parameter 'param_int' to 'this is not an int': ValueError(Type 'Type.INTEGER' and value 'this is not an int' do not agree)\")"
      ]
     },
     "execution_count": 19,
     "metadata": {},
     "output_type": "execute_result"
    }
   ],
   "source": [
    "node.parameter_handler.update(name=\"param_int\", value=\"this is not an int\")"
   ]
  },
  {
   "cell_type": "code",
   "execution_count": 20,
   "id": "18f2a75a-ae19-43c3-86bd-2d523db89e29",
   "metadata": {},
   "outputs": [
    {
     "data": {
      "text/plain": [
       "7"
      ]
     },
     "execution_count": 20,
     "metadata": {},
     "output_type": "execute_result"
    }
   ],
   "source": [
    "node.parameters.param_int"
   ]
  },
  {
   "cell_type": "code",
   "execution_count": 21,
   "id": "b7d1811c-c71a-4c07-8047-4a2b8d345f1b",
   "metadata": {},
   "outputs": [
    {
     "data": {
      "text/plain": [
       "(False,\n",
       " \"Rejected attempt to update parameter 'param_int' to '20': Value '20' is not in integer range '0' to '9'.\")"
      ]
     },
     "execution_count": 21,
     "metadata": {},
     "output_type": "execute_result"
    },
    {
     "name": "stdout",
     "output_type": "stream",
     "text": [
      "\u001b[31m2025-09-10 18:42:43.443 [ERROR] [test_parameter_handler_node.parameters]: Rejected attempt to update parameter 'param_int' to '20': Value '20' is not in integer range '0' to '9'.\u001b[0m\n"
     ]
    }
   ],
   "source": [
    "node.parameter_handler.update(name=\"param_int\", value=20) # not in defined range"
   ]
  },
  {
   "cell_type": "code",
   "execution_count": 22,
   "id": "6da39811-7472-47bc-ba58-d7c54bf2213f",
   "metadata": {},
   "outputs": [
    {
     "data": {
      "text/plain": [
       "7"
      ]
     },
     "execution_count": 22,
     "metadata": {},
     "output_type": "execute_result"
    }
   ],
   "source": [
    "node.parameters.param_int"
   ]
  },
  {
   "cell_type": "code",
   "execution_count": 23,
   "id": "2bc122c5-607a-47e2-97f7-d3a611235c21",
   "metadata": {},
   "outputs": [
    {
     "data": {
      "text/plain": [
       "(True, \"Parameter 'param_int' set to '3'.\")"
      ]
     },
     "execution_count": 23,
     "metadata": {},
     "output_type": "execute_result"
    },
    {
     "name": "stdout",
     "output_type": "stream",
     "text": [
      "\u001b[0m2025-09-10 18:42:43.467 [INFO] [test_parameter_handler_node.parameters]: Parameter 'param_int' set to '3'.\u001b[0m\n"
     ]
    }
   ],
   "source": [
    "node.parameter_handler.update(name=\"param_int\", value=3)"
   ]
  },
  {
   "cell_type": "code",
   "execution_count": 24,
   "id": "85d32d94-862f-4852-a2c4-6af9c5222e6d",
   "metadata": {},
   "outputs": [
    {
     "data": {
      "text/plain": [
       "3"
      ]
     },
     "execution_count": 24,
     "metadata": {},
     "output_type": "execute_result"
    }
   ],
   "source": [
    "node.parameters.param_int"
   ]
  },
  {
   "cell_type": "markdown",
   "id": "83f22012-86a7-4c6b-b1ae-463839ccec20",
   "metadata": {
    "jp-MarkdownHeadingCollapsed": true
   },
   "source": [
    "## Reject and deflect parameter updates via callback"
   ]
  },
  {
   "cell_type": "code",
   "execution_count": 25,
   "id": "7a772960-3863-4b98-92d8-8b6c8b268c14",
   "metadata": {},
   "outputs": [],
   "source": [
    "def filter_parameter(name, value, is_declared):\n",
    "    message = None\n",
    "\n",
    "    if name == \"param_int\":\n",
    "        if value % 2 == 0:\n",
    "            value += 1\n",
    "            message = \"Value must be uneven.\"\n",
    "\n",
    "    if name == \"param_str\":\n",
    "        valid_values = [\"Hello\", \"World\"]\n",
    "        if value not in valid_values:\n",
    "            message = f\"Must be in {valid_values}.\"\n",
    "            value = None\n",
    "\n",
    "    return value, message\n",
    "\n",
    "setattr(node, \"filter_parameter\", filter_parameter)"
   ]
  },
  {
   "cell_type": "code",
   "execution_count": 26,
   "id": "dd51e0e0-c09a-430c-b1a1-4861a6a80492",
   "metadata": {},
   "outputs": [
    {
     "name": "stdout",
     "output_type": "stream",
     "text": [
      "\u001b[33m2025-09-10 18:42:43.498 [WARN] [test_parameter_handler_node.parameters]: Parameter 'param_int' deflected to '9': Value must be uneven.\u001b[0m\n"
     ]
    }
   ],
   "source": [
    "success, message = node.parameter_handler.update(name=\"param_int\", value=8)"
   ]
  },
  {
   "cell_type": "code",
   "execution_count": 27,
   "id": "88eab8df-ec54-4fec-994f-d8e73f6cff37",
   "metadata": {},
   "outputs": [
    {
     "name": "stdout",
     "output_type": "stream",
     "text": [
      "True\n",
      "Parameter 'param_int' deflected to '9' instead of '8'.\n"
     ]
    }
   ],
   "source": [
    "print(success)\n",
    "print(message)"
   ]
  },
  {
   "cell_type": "code",
   "execution_count": 28,
   "id": "c532f88a-92f4-435d-8931-cdf188bae438",
   "metadata": {},
   "outputs": [
    {
     "data": {
      "text/plain": [
       "9"
      ]
     },
     "execution_count": 28,
     "metadata": {},
     "output_type": "execute_result"
    }
   ],
   "source": [
    "node.parameters.param_int"
   ]
  },
  {
   "cell_type": "code",
   "execution_count": 29,
   "id": "e56a209c-ab0e-476b-9232-a9da592a8be3",
   "metadata": {},
   "outputs": [
    {
     "data": {
      "text/plain": [
       "(False,\n",
       " \"Parameter 'param_str' not set to 'test': Must be in ['Hello', 'World'].\")"
      ]
     },
     "execution_count": 29,
     "metadata": {},
     "output_type": "execute_result"
    },
    {
     "name": "stdout",
     "output_type": "stream",
     "text": [
      "\u001b[31m2025-09-10 18:42:43.526 [ERROR] [test_parameter_handler_node.parameters]: Parameter 'param_str' not set to 'test': Must be in ['Hello', 'World'].\u001b[0m\n"
     ]
    }
   ],
   "source": [
    "node.parameter_handler.update(name=\"param_str\", value=\"test\")"
   ]
  },
  {
   "cell_type": "code",
   "execution_count": 30,
   "id": "dea6b173-3ad3-4f93-b11a-9c182148866c",
   "metadata": {},
   "outputs": [
    {
     "data": {
      "text/plain": [
       "'Hello'"
      ]
     },
     "execution_count": 30,
     "metadata": {},
     "output_type": "execute_result"
    }
   ],
   "source": [
    "node.parameters.param_str"
   ]
  },
  {
   "cell_type": "markdown",
   "id": "c31dad01-b2e7-4b0f-bdd8-765205869b9c",
   "metadata": {
    "jp-MarkdownHeadingCollapsed": true
   },
   "source": [
    "## Undeclare parameters"
   ]
  },
  {
   "cell_type": "code",
   "execution_count": 31,
   "id": "de238ed3-17dc-4443-81e9-cf6b3a01a296",
   "metadata": {
    "scrolled": true
   },
   "outputs": [
    {
     "name": "stdout",
     "output_type": "stream",
     "text": [
      "\u001b[0m2025-09-10 18:42:43.547 [INFO] [test_parameter_handler_node.parameters]: Successfully undeclared parameter 'param_int'.\u001b[0m\n"
     ]
    }
   ],
   "source": [
    "node.parameter_handler.undeclare(name=\"param_int\") # Read-only parameters cannot be undeclared."
   ]
  },
  {
   "cell_type": "code",
   "execution_count": 32,
   "id": "cd2040f1-3da7-40c1-b1bd-3817e71c33f2",
   "metadata": {},
   "outputs": [
    {
     "data": {
      "text/plain": [
       "False"
      ]
     },
     "execution_count": 32,
     "metadata": {},
     "output_type": "execute_result"
    }
   ],
   "source": [
    "\"param_int\" in node.parameters"
   ]
  },
  {
   "cell_type": "markdown",
   "id": "be213d45-0d3c-4faa-9e1a-10b78b06ebaf",
   "metadata": {
    "jp-MarkdownHeadingCollapsed": true
   },
   "source": [
    "## Stop Node"
   ]
  },
  {
   "cell_type": "code",
   "execution_count": 33,
   "id": "d9b47b63-2de1-4eba-a672-5fbd6851a981",
   "metadata": {},
   "outputs": [
    {
     "name": "stdout",
     "output_type": "stream",
     "text": [
      "\u001b[31m> \u001b[36mStopped node 'MyNode'\u001b[0m\n"
     ]
    }
   ],
   "source": [
    "stop_node(node, executor, context, thread)"
   ]
  }
 ],
 "metadata": {
  "kernelspec": {
   "display_name": "Python 3 (ipykernel)",
   "language": "python",
   "name": "python3"
  },
  "language_info": {
   "codemirror_mode": {
    "name": "ipython",
    "version": 3
   },
   "file_extension": ".py",
   "mimetype": "text/x-python",
   "name": "python",
   "nbconvert_exporter": "python",
   "pygments_lexer": "ipython3",
   "version": "3.12.3"
  }
 },
 "nbformat": 4,
 "nbformat_minor": 5
}
