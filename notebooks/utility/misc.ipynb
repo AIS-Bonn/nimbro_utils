{
 "cells": [
  {
   "cell_type": "markdown",
   "id": "409c52e8-5492-4edf-949d-6521f1752f19",
   "metadata": {
    "jp-MarkdownHeadingCollapsed": true
   },
   "source": [
    "## Assertions"
   ]
  },
  {
   "cell_type": "markdown",
   "id": "3a6df740-8aab-440b-ac28-0813abdddb9e",
   "metadata": {},
   "source": [
    "### assert_type_value()"
   ]
  },
  {
   "cell_type": "code",
   "execution_count": 1,
   "id": "4ccfa982-9fca-4cfa-94ca-d3490370f846",
   "metadata": {},
   "outputs": [],
   "source": [
    "from nimbro_utils.lazy import assert_type_value\n",
    "data = 5\n",
    "assert_type_value(obj=data, type_or_value=[int, float], name=\"variable 'a'\")\n",
    "assert_type_value(obj=data, type_or_value=[float, 5, \"test\", None], name=\"variable 'a'\")"
   ]
  },
  {
   "cell_type": "markdown",
   "id": "0101780c-4bc8-44cd-95bb-9d6ac6137e76",
   "metadata": {},
   "source": [
    "### assert_attribute()"
   ]
  },
  {
   "cell_type": "code",
   "execution_count": 2,
   "id": "ef484b21-8355-4648-a02a-55d8e36e9e8f",
   "metadata": {},
   "outputs": [],
   "source": [
    "from nimbro_utils.lazy import assert_attribute\n",
    "data = 5\n",
    "assert_attribute(obj=data, attribute=\"test\", exists=False)"
   ]
  },
  {
   "cell_type": "markdown",
   "id": "eca4a457-5d8b-426d-b51f-a8817656caa4",
   "metadata": {},
   "source": [
    "### assert_keys()"
   ]
  },
  {
   "cell_type": "code",
   "execution_count": 3,
   "id": "66f0c803-ed7c-4aaa-a51c-5d97d8eb9342",
   "metadata": {},
   "outputs": [],
   "source": [
    "from nimbro_utils.lazy import assert_keys\n",
    "data = {\n",
    "    'test': None,\n",
    "    'name': None,\n",
    "    'age': None\n",
    "}\n",
    "assert_keys(obj=data, keys=['test', 'name', 'age'], mode=\"match\")\n",
    "assert_keys(obj=data, keys=['test', 'name', 'age', 'profession'], mode=\"whitelist\")\n",
    "assert_keys(obj=data, keys=['name', 'age'], mode=\"required\")\n",
    "assert_keys(obj=data, keys=['profession'], mode=\"blacklist\")"
   ]
  },
  {
   "cell_type": "markdown",
   "id": "a64e5784-c3df-464e-93e2-f4dca2d33063",
   "metadata": {},
   "source": [
    "### assert_log()"
   ]
  },
  {
   "cell_type": "code",
   "execution_count": 4,
   "id": "1f62eaae-9b48-4df2-ac31-537db30cd6b7",
   "metadata": {},
   "outputs": [],
   "source": [
    "import rclpy\n",
    "from nimbro_utils.lazy import assert_log\n",
    "logger = rclpy.logging.get_logger(\"test_logger\")\n",
    "assert_log(14 > 7, \"This is the assertion message\", logger=logger)"
   ]
  },
  {
   "cell_type": "markdown",
   "id": "145c8f44-a09c-4141-816d-54d1a1e7e9e1",
   "metadata": {
    "jp-MarkdownHeadingCollapsed": true
   },
   "source": [
    "## JSON files"
   ]
  },
  {
   "cell_type": "code",
   "execution_count": 5,
   "id": "0bddfe3a-6548-4b79-9b46-a6ee8689fa60",
   "metadata": {},
   "outputs": [],
   "source": [
    "file_path = \"./test.json\""
   ]
  },
  {
   "cell_type": "markdown",
   "id": "257222ba-4cf1-4709-9826-f25084dbd863",
   "metadata": {},
   "source": [
    "### write_json()"
   ]
  },
  {
   "cell_type": "code",
   "execution_count": 6,
   "id": "b262e447-e225-4dc8-8c4c-68f74b9e90f9",
   "metadata": {},
   "outputs": [
    {
     "name": "stdout",
     "output_type": "stream",
     "text": [
      "success: True\n",
      "message: Written file '/home/paetzoldb0/ws/jazzy/main/src/nimbro_utils/notebooks/utility/test.json' in '0.001s'.\n"
     ]
    }
   ],
   "source": [
    "from nimbro_utils.lazy import write_json\n",
    "content = {'number': 0, 'null': None}\n",
    "success, message = write_json(file_path=file_path, json_object=content)\n",
    "print(\"success:\", success)\n",
    "print(\"message:\", message)"
   ]
  },
  {
   "cell_type": "markdown",
   "id": "c833b92e-58a5-47dd-b6a8-f8bbe468e811",
   "metadata": {},
   "source": [
    "### read_json()"
   ]
  },
  {
   "cell_type": "code",
   "execution_count": 7,
   "id": "650d2d64-a685-4817-a909-63ca9bcce7e0",
   "metadata": {},
   "outputs": [
    {
     "name": "stdout",
     "output_type": "stream",
     "text": [
      "success: True\n",
      "message: Read file './test.json' in '0.000s'.\n",
      "content: {'number': 0, 'null': None}\n"
     ]
    }
   ],
   "source": [
    "from nimbro_utils.lazy import read_json\n",
    "success, message, content = read_json(file_path=file_path)\n",
    "print(\"success:\", success)\n",
    "print(\"message:\", message)\n",
    "print(\"content:\", content)"
   ]
  },
  {
   "cell_type": "code",
   "execution_count": 8,
   "id": "2ec003a2-8ea7-453e-8fb9-d106afd6ccfe",
   "metadata": {},
   "outputs": [],
   "source": [
    "import os\n",
    "os.remove(file_path)"
   ]
  },
  {
   "cell_type": "markdown",
   "id": "e68f393a-e528-49a0-a92b-8748a766dd4f",
   "metadata": {
    "jp-MarkdownHeadingCollapsed": true
   },
   "source": [
    "## Base64"
   ]
  },
  {
   "cell_type": "markdown",
   "id": "0603b4a9-0903-4d79-8231-a1475e5bae60",
   "metadata": {},
   "source": [
    "### read_as_b64()"
   ]
  },
  {
   "cell_type": "code",
   "execution_count": 9,
   "id": "00da4731-be4f-4004-beb2-6c0b18cda58d",
   "metadata": {},
   "outputs": [
    {
     "name": "stdout",
     "output_type": "stream",
     "text": [
      "success: True\n",
      "message: Read and encoded file as Base64 './../../LICENSE' in '0.001s'.\n",
      "file_b64 QlNEIDMtQ2xhdXNlIExpY2Vuc2UKCkNvcHlyaWdodCAoYykgMjAyNSwgVW5pdmVyc2l0eSBvZiBCb25uCgpSZWRpc3RyaWJ1dGlvbiBhbmQgdXNlIGluIHNvdXJjZSBhbmQgYmluYXJ5IGZvcm1zLCB3aXRoIG9yIHdpdGhvdXQgbW9kaWZpY2F0aW9uLCBhcmUgcGVybWl0dGVkIHByb3ZpZGVkIHRoYXQgdGhlIGZvbGxvd2luZyBjb25kaXRpb25zIGFyZSBtZXQ6CgoxLiBSZWRpc3RyaWJ1dGlvbnMgb2Ygc291cmNlIGNvZGUgbXVzdCByZXRhaW4gdGhlIGFib3ZlIGNvcHlyaWdodCBub3RpY2UsIHRoaXMgbGlzdCBvZiBjb25kaXRpb25zIGFuZCB0aGUgZm9sbG93aW5nIGRpc2NsYWltZXIuCgoyLiBSZWRpc3RyaWJ1dGlvbnMgaW4gYmluYXJ5IGZvcm0gbXVzdCByZXByb2R1Y2UgdGhlIGFib3ZlIGNvcHlyaWdodCBub3RpY2UsIHRoaXMgbGlzdCBvZiBjb25kaXRpb25zIGFuZCB0aGUgZm9sbG93aW5nIGRpc2NsYWltZXIgaW4gdGhlIGRvY3VtZW50YXRpb24gYW5kL29yIG90aGVyIG1hdGVyaWFscyBwcm92aWRlZCB3aXRoIHRoZSBkaXN0cmlidXRpb24uCgozLiBOZWl0aGVyIHRoZSBuYW1lIG9mIHRoZSBjb3B5cmlnaHQgaG9sZGVyIG5vciB0aGUgbmFtZXMgb2YgaXRzIGNvbnRyaWJ1dG9ycyBtYXkgYmUgdXNlZCB0byBlbmRvcnNlIG9yIHByb21vdGUgcHJvZHVjdHMgZGVyaXZlZCBmcm9tIHRoaXMgc29mdHdhcmUgd2l0aG91dCBzcGVjaWZpYyBwcmlvciB3cml0dGVuIHBlcm1pc3Npb24uCgpUSElTIFNPRlRXQVJFIElTIFBST1ZJREVEIEJZIFRIRSBDT1BZUklHSFQgSE9MREVSUyBBTkQgQ09OVFJJQlVUT1JTIOKAnEFTIElT4oCdIEFORCBBTlkgRVhQUkVTUyBPUiBJTVBMSUVEIFdBUlJBTlRJRVMsIElOQ0xVRElORywgQlVUIE5PVCBMSU1JVEVEIFRPLCBUSEUgSU1QTElFRCBXQVJSQU5USUVTIE9GIE1FUkNIQU5UQUJJTElUWSBBTkQgRklUTkVTUyBGT1IgQSBQQVJUSUNVTEFSIFBVUlBPU0UgQVJFIERJU0NMQUlNRUQuIElOIE5PIEVWRU5UIFNIQUxMIFRIRSBDT1BZUklHSFQgSE9MREVSIE9SIENPTlRSSUJVVE9SUyBCRSBMSUFCTEUgRk9SIEFOWSBESVJFQ1QsIElORElSRUNULCBJTkNJREVOVEFMLCBTUEVDSUFMLCBFWEVNUExBUlksIE9SIENPTlNFUVVFTlRJQUwgREFNQUdFUyAoSU5DTFVESU5HLCBCVVQgTk9UIExJTUlURUQgVE8sIFBST0NVUkVNRU5UIE9GIFNVQlNUSVRVVEUgR09PRFMgT1IgU0VSVklDRVM7IExPU1MgT0YgVVNFLCBEQVRBLCBPUiBQUk9GSVRTOyBPUiBCVVNJTkVTUyBJTlRFUlJVUFRJT04pIEhPV0VWRVIgQ0FVU0VEIEFORCBPTiBBTlkgVEhFT1JZIE9GIExJQUJJTElUWSwgV0hFVEhFUiBJTiBDT05UUkFDVCwgU1RSSUNUIExJQUJJTElUWSwgT1IgVE9SVCAoSU5DTFVESU5HIE5FR0xJR0VOQ0UgT1IgT1RIRVJXSVNFKSBBUklTSU5HIElOIEFOWSBXQVkgT1VUIE9GIFRIRSBVU0UgT0YgVEhJUyBTT0ZUV0FSRSwgRVZFTiBJRiBBRFZJU0VEIE9GIFRIRSBQT1NTSUJJTElUWSBPRiBTVUNIIERBTUFHRS4=\n"
     ]
    }
   ],
   "source": [
    "from nimbro_utils.lazy import read_as_b64\n",
    "success, message, file_b64 = read_as_b64(file_path=\"./../../LICENSE\")\n",
    "print(\"success:\", success)\n",
    "print(\"message:\", message)\n",
    "print(\"file_b64\", file_b64)"
   ]
  },
  {
   "cell_type": "markdown",
   "id": "830dc80f-cba8-4602-8fb7-22df673ff788",
   "metadata": {},
   "source": [
    "### decode_b64()"
   ]
  },
  {
   "cell_type": "code",
   "execution_count": 10,
   "id": "c2df536e-665b-4546-8c54-99f64811903f",
   "metadata": {},
   "outputs": [
    {
     "name": "stdout",
     "output_type": "stream",
     "text": [
      "success: True\n",
      "message: Decoded object from Base64 in '0.000s'.\n",
      "file_decoded b'BSD 3-Clause License\\n\\nCopyright (c) 2025, University of Bonn\\n\\nRedistribution and use in source and binary forms, with or without modification, are permitted provided that the following conditions are met:\\n\\n1. Redistributions of source code must retain the above copyright notice, this list of conditions and the following disclaimer.\\n\\n2. Redistributions in binary form must reproduce the above copyright notice, this list of conditions and the following disclaimer in the documentation and/or other materials provided with the distribution.\\n\\n3. Neither the name of the copyright holder nor the names of its contributors may be used to endorse or promote products derived from this software without specific prior written permission.\\n\\nTHIS SOFTWARE IS PROVIDED BY THE COPYRIGHT HOLDERS AND CONTRIBUTORS \\xe2\\x80\\x9cAS IS\\xe2\\x80\\x9d AND ANY EXPRESS OR IMPLIED WARRANTIES, INCLUDING, BUT NOT LIMITED TO, THE IMPLIED WARRANTIES OF MERCHANTABILITY AND FITNESS FOR A PARTICULAR PURPOSE ARE DISCLAIMED. IN NO EVENT SHALL THE COPYRIGHT HOLDER OR CONTRIBUTORS BE LIABLE FOR ANY DIRECT, INDIRECT, INCIDENTAL, SPECIAL, EXEMPLARY, OR CONSEQUENTIAL DAMAGES (INCLUDING, BUT NOT LIMITED TO, PROCUREMENT OF SUBSTITUTE GOODS OR SERVICES; LOSS OF USE, DATA, OR PROFITS; OR BUSINESS INTERRUPTION) HOWEVER CAUSED AND ON ANY THEORY OF LIABILITY, WHETHER IN CONTRACT, STRICT LIABILITY, OR TORT (INCLUDING NEGLIGENCE OR OTHERWISE) ARISING IN ANY WAY OUT OF THE USE OF THIS SOFTWARE, EVEN IF ADVISED OF THE POSSIBILITY OF SUCH DAMAGE.'\n"
     ]
    }
   ],
   "source": [
    "from nimbro_utils.lazy import decode_b64\n",
    "success, message, file_decoded = decode_b64(file_b64)\n",
    "print(\"success:\", success)\n",
    "print(\"message:\", message)\n",
    "print(\"file_decoded\", file_decoded)"
   ]
  },
  {
   "cell_type": "markdown",
   "id": "44632cb7-e631-4864-9fa9-70ce1f434e55",
   "metadata": {},
   "source": [
    "### encode_b64()"
   ]
  },
  {
   "cell_type": "code",
   "execution_count": 11,
   "id": "a1b45c5b-eb58-4924-9ea0-7e8695c9f844",
   "metadata": {},
   "outputs": [
    {
     "name": "stdout",
     "output_type": "stream",
     "text": [
      "success: True\n",
      "message: Encoded object as Base64 in '0.000s'.\n",
      "file_encoded QlNEIDMtQ2xhdXNlIExpY2Vuc2UKCkNvcHlyaWdodCAoYykgMjAyNSwgVW5pdmVyc2l0eSBvZiBCb25uCgpSZWRpc3RyaWJ1dGlvbiBhbmQgdXNlIGluIHNvdXJjZSBhbmQgYmluYXJ5IGZvcm1zLCB3aXRoIG9yIHdpdGhvdXQgbW9kaWZpY2F0aW9uLCBhcmUgcGVybWl0dGVkIHByb3ZpZGVkIHRoYXQgdGhlIGZvbGxvd2luZyBjb25kaXRpb25zIGFyZSBtZXQ6CgoxLiBSZWRpc3RyaWJ1dGlvbnMgb2Ygc291cmNlIGNvZGUgbXVzdCByZXRhaW4gdGhlIGFib3ZlIGNvcHlyaWdodCBub3RpY2UsIHRoaXMgbGlzdCBvZiBjb25kaXRpb25zIGFuZCB0aGUgZm9sbG93aW5nIGRpc2NsYWltZXIuCgoyLiBSZWRpc3RyaWJ1dGlvbnMgaW4gYmluYXJ5IGZvcm0gbXVzdCByZXByb2R1Y2UgdGhlIGFib3ZlIGNvcHlyaWdodCBub3RpY2UsIHRoaXMgbGlzdCBvZiBjb25kaXRpb25zIGFuZCB0aGUgZm9sbG93aW5nIGRpc2NsYWltZXIgaW4gdGhlIGRvY3VtZW50YXRpb24gYW5kL29yIG90aGVyIG1hdGVyaWFscyBwcm92aWRlZCB3aXRoIHRoZSBkaXN0cmlidXRpb24uCgozLiBOZWl0aGVyIHRoZSBuYW1lIG9mIHRoZSBjb3B5cmlnaHQgaG9sZGVyIG5vciB0aGUgbmFtZXMgb2YgaXRzIGNvbnRyaWJ1dG9ycyBtYXkgYmUgdXNlZCB0byBlbmRvcnNlIG9yIHByb21vdGUgcHJvZHVjdHMgZGVyaXZlZCBmcm9tIHRoaXMgc29mdHdhcmUgd2l0aG91dCBzcGVjaWZpYyBwcmlvciB3cml0dGVuIHBlcm1pc3Npb24uCgpUSElTIFNPRlRXQVJFIElTIFBST1ZJREVEIEJZIFRIRSBDT1BZUklHSFQgSE9MREVSUyBBTkQgQ09OVFJJQlVUT1JTIOKAnEFTIElT4oCdIEFORCBBTlkgRVhQUkVTUyBPUiBJTVBMSUVEIFdBUlJBTlRJRVMsIElOQ0xVRElORywgQlVUIE5PVCBMSU1JVEVEIFRPLCBUSEUgSU1QTElFRCBXQVJSQU5USUVTIE9GIE1FUkNIQU5UQUJJTElUWSBBTkQgRklUTkVTUyBGT1IgQSBQQVJUSUNVTEFSIFBVUlBPU0UgQVJFIERJU0NMQUlNRUQuIElOIE5PIEVWRU5UIFNIQUxMIFRIRSBDT1BZUklHSFQgSE9MREVSIE9SIENPTlRSSUJVVE9SUyBCRSBMSUFCTEUgRk9SIEFOWSBESVJFQ1QsIElORElSRUNULCBJTkNJREVOVEFMLCBTUEVDSUFMLCBFWEVNUExBUlksIE9SIENPTlNFUVVFTlRJQUwgREFNQUdFUyAoSU5DTFVESU5HLCBCVVQgTk9UIExJTUlURUQgVE8sIFBST0NVUkVNRU5UIE9GIFNVQlNUSVRVVEUgR09PRFMgT1IgU0VSVklDRVM7IExPU1MgT0YgVVNFLCBEQVRBLCBPUiBQUk9GSVRTOyBPUiBCVVNJTkVTUyBJTlRFUlJVUFRJT04pIEhPV0VWRVIgQ0FVU0VEIEFORCBPTiBBTlkgVEhFT1JZIE9GIExJQUJJTElUWSwgV0hFVEhFUiBJTiBDT05UUkFDVCwgU1RSSUNUIExJQUJJTElUWSwgT1IgVE9SVCAoSU5DTFVESU5HIE5FR0xJR0VOQ0UgT1IgT1RIRVJXSVNFKSBBUklTSU5HIElOIEFOWSBXQVkgT1VUIE9GIFRIRSBVU0UgT0YgVEhJUyBTT0ZUV0FSRSwgRVZFTiBJRiBBRFZJU0VEIE9GIFRIRSBQT1NTSUJJTElUWSBPRiBTVUNIIERBTUFHRS4=\n"
     ]
    }
   ],
   "source": [
    "from nimbro_utils.lazy import encode_b64\n",
    "success, message, file_encoded = encode_b64(file_decoded)\n",
    "print(\"success:\", success)\n",
    "print(\"message:\", message)\n",
    "print(\"file_encoded\", file_encoded)"
   ]
  },
  {
   "cell_type": "markdown",
   "id": "9c943264-e7d3-4c73-9ce7-1f75fbc8e4c0",
   "metadata": {
    "jp-MarkdownHeadingCollapsed": true
   },
   "source": [
    "## Miscellaneous utilities"
   ]
  },
  {
   "cell_type": "markdown",
   "id": "59726daa-1c0e-4244-b6cd-21e66c55d7da",
   "metadata": {},
   "source": [
    "### escape"
   ]
  },
  {
   "cell_type": "code",
   "execution_count": 12,
   "id": "28208701-bf10-4872-8cf5-0e49a139c9a5",
   "metadata": {},
   "outputs": [
    {
     "name": "stdout",
     "output_type": "stream",
     "text": [
      "\u001b[91mThis is a test using color 'red'.\u001b[0m\n",
      "\u001b[92mThis is a test using color 'green'.\u001b[0m\n",
      "\u001b[93mThis is a test using color 'yellow'.\u001b[0m\n",
      "\u001b[94mThis is a test using color 'blue'.\u001b[0m\n",
      "\u001b[95mThis is a test using color 'magenta'.\u001b[0m\n",
      "\u001b[96mThis is a test using color 'cyan'.\u001b[0m\n",
      "\u001b[37mThis is a test using color 'gray'.\u001b[0m\n",
      "\u001b[90mThis is a test using color 'darkgray'.\u001b[0m\n",
      "\u001b[31mThis is a test using color 'darkred'.\u001b[0m\n",
      "\u001b[32mThis is a test using color 'darkgreen'.\u001b[0m\n",
      "\u001b[33mThis is a test using color 'darkyellow'.\u001b[0m\n",
      "\u001b[34mThis is a test using color 'darkblue'.\u001b[0m\n",
      "\u001b[35mThis is a test using color 'darkmagenta'.\u001b[0m\n",
      "\u001b[36mThis is a test using color 'darkcyan'.\u001b[0m\n",
      "\u001b[101mThis is a test using color 'bg_red'.\u001b[0m\n"
     ]
    }
   ],
   "source": [
    "from nimbro_utils.lazy import escape\n",
    "for key in ['red', 'green', 'yellow', 'blue', 'magenta', 'cyan', 'gray', 'darkgray', 'darkred', 'darkgreen', 'darkyellow', 'darkblue', 'darkmagenta', 'darkcyan', 'bg_red']:\n",
    "    print(f\"{escape[key]}This is a test using color '{key}'.{escape['end']}\")"
   ]
  },
  {
   "cell_type": "markdown",
   "id": "a96df229-b88f-4d4d-b089-f6b7aed5c91e",
   "metadata": {},
   "source": [
    "### update_dict()"
   ]
  },
  {
   "cell_type": "code",
   "execution_count": 13,
   "id": "35e7c37c-17fd-4b5c-b698-763dcd508b7c",
   "metadata": {},
   "outputs": [
    {
     "name": "stdout",
     "output_type": "stream",
     "text": [
      "{'profession': 'playing with robots', 'age': 31, 'name': 'Bastian'}\n"
     ]
    }
   ],
   "source": [
    "from nimbro_utils.lazy import update_dict\n",
    "old_dict = {\n",
    "    'name': \"Bastian\",\n",
    "    'age': 30\n",
    "}\n",
    "new_dict = {\n",
    "    'profession': \"playing with robots\",\n",
    "    'age': 31\n",
    "}\n",
    "result_dict = update_dict(old_dict=old_dict, new_dict=new_dict)\n",
    "print(result_dict)"
   ]
  },
  {
   "cell_type": "markdown",
   "id": "bcfeba2d-6297-4e5e-8a61-05844070ce26",
   "metadata": {},
   "source": [
    "### count_duplicates()"
   ]
  },
  {
   "cell_type": "code",
   "execution_count": 14,
   "id": "2fc6621c-9ff0-4ae3-832a-d4cac386d9fa",
   "metadata": {},
   "outputs": [
    {
     "name": "stdout",
     "output_type": "stream",
     "text": [
      "{0: 2, 1: 2}\n",
      "{0: 2, 1: 2, 2: 1, 3: 1, 4: 1}\n"
     ]
    }
   ],
   "source": [
    "from nimbro_utils.lazy import count_duplicates\n",
    "data = [0, 0, 1, 1, 2, 3, 4]\n",
    "print(count_duplicates(data))\n",
    "print(count_duplicates(data, include_unique=True))"
   ]
  },
  {
   "cell_type": "markdown",
   "id": "116f3004-5413-4478-9d7c-9985d49987d0",
   "metadata": {},
   "source": [
    "### start_jobs()"
   ]
  },
  {
   "cell_type": "code",
   "execution_count": 15,
   "id": "7e3b7193-9255-4647-80a3-26c7fdf641db",
   "metadata": {},
   "outputs": [
    {
     "name": "stdout",
     "output_type": "stream",
     "text": [
      "Starting jobs...\n",
      "Jobs done\n",
      "job '0':\n",
      "\tsuccess: True\n",
      "\tmessage: Job completed after '0.00s'.\n",
      "\tresult: 0\n",
      "job '1':\n",
      "\tsuccess: False\n",
      "\tmessage: Job raised an exception after '0.00s': ValueError('Cannot sleep for two seconds!')\n",
      "\tresult: None\n",
      "job '2':\n",
      "\tsuccess: False\n",
      "\tmessage: Job did not finish after timeout of '6.00s'.\n",
      "\tresult: None\n",
      "job '3':\n",
      "\tsuccess: True\n",
      "\tmessage: Job completed after '3.00s'.\n",
      "\tresult: 3\n",
      "job '4':\n",
      "\tsuccess: True\n",
      "\tmessage: Job completed after '5.00s'.\n",
      "\tresult: 5\n"
     ]
    }
   ],
   "source": [
    "import time\n",
    "from nimbro_utils.lazy import start_jobs\n",
    "\n",
    "def wait(seconds=0):\n",
    "    if seconds == 2:\n",
    "        raise ValueError(\"Cannot sleep for two seconds!\")\n",
    "    time.sleep(seconds)\n",
    "    return seconds\n",
    "\n",
    "print(\"Starting jobs...\")\n",
    "results = start_jobs(\n",
    "    jobs=[wait, wait, wait, wait, wait],\n",
    "    job_args=[None, {'seconds': 2}, {'seconds': 100}, {'seconds': 3}, ([5], {})],\n",
    "    timeout=6,\n",
    "    max_workers=None\n",
    ")\n",
    "print(\"Jobs done\")\n",
    "\n",
    "for i, result in enumerate(results):\n",
    "    print(f\"job '{i}':\")\n",
    "    print(\"\\tsuccess:\", result[0])\n",
    "    print(\"\\tmessage:\", result[1])\n",
    "    print(\"\\tresult:\", result[2])"
   ]
  },
  {
   "cell_type": "markdown",
   "id": "9c7637b7-07e9-4f68-87a3-d0e969f5fbc0",
   "metadata": {},
   "source": [
    "### try_callback()"
   ]
  },
  {
   "cell_type": "code",
   "execution_count": 16,
   "id": "fa8d87f4",
   "metadata": {},
   "outputs": [
    {
     "name": "stdout",
     "output_type": "stream",
     "text": [
      "\u001b[32m>\u001b[36m Starting node 'TestNode'\u001b[0m\n",
      "\u001b[0m2025-10-01 18:58:31.573 [INFO] [test_node]: timer callback 1\u001b[0m\n",
      "\u001b[0m2025-10-01 18:58:31.673 [INFO] [test_node]: timer callback 2\u001b[0m\n",
      "\u001b[0m2025-10-01 18:58:31.873 [INFO] [test_node]: timer callback 3\u001b[0m\n",
      "\u001b[31m2025-10-01 18:58:31.875 [ERROR] [test_node]: ValueError('Callback cannot be called more then 3 times!')\u001b[0m\n",
      "\u001b[0m2025-10-01 18:58:32.738 [INFO] [test_node]: timer callback 4\u001b[0m\n",
      "\u001b[0m2025-10-01 18:58:32.273 [INFO] [test_node]: timer callback 5\u001b[0m\n",
      "\u001b[0m2025-10-01 18:58:32.472 [INFO] [test_node]: timer callback 6\u001b[0m\n",
      "\u001b[0m2025-10-01 18:58:32.672 [INFO] [test_node]: timer callback 7\u001b[0m\n",
      "\u001b[0m2025-10-01 18:58:32.873 [INFO] [test_node]: timer callback 8\u001b[0m\n",
      "\u001b[0m2025-10-01 18:58:33.727 [INFO] [test_node]: timer callback 9\u001b[0m\n",
      "\u001b[0m2025-10-01 18:58:33.279 [INFO] [test_node]: timer callback 10\u001b[0m\n",
      "\u001b[31m> \u001b[36mStopped node 'TestNode'\u001b[0m\n"
     ]
    }
   ],
   "source": [
    "import time\n",
    "from rclpy.node import Node\n",
    "from nimbro_utils.lazy import try_callback, start_and_spin_node, stop_node\n",
    "\n",
    "class TestNode(Node):\n",
    "    def __init__(self, context=None):\n",
    "        super().__init__(\"test_node\", context=context)\n",
    "        # self.create_timer(0.2, self.callback)\n",
    "        self.create_timer(0.2, try_callback(callback=self.callback, mode=\"error\", logger=self.get_logger()))\n",
    "        self.called = 0\n",
    "    def callback(self):\n",
    "        self.called += 1\n",
    "        self.get_logger().info(f\"timer callback {self.called}\")\n",
    "        if self.called == 3:\n",
    "            raise ValueError(\"Callback cannot be called more then 3 times!\")\n",
    "\n",
    "node_env = start_and_spin_node(TestNode, blocking=False)\n",
    "time.sleep(2)\n",
    "stop_node(*node_env)"
   ]
  },
  {
   "cell_type": "code",
   "execution_count": 17,
   "id": "d4b86a3c-83d9-4ad9-8d11-513fda1deeca",
   "metadata": {},
   "outputs": [],
   "source": [
    "from rclpy._rclpy_pybind11 import InvalidHandle"
   ]
  },
  {
   "cell_type": "markdown",
   "id": "a3acfc3b-9da4-4222-9f02-3230888d5e6a",
   "metadata": {},
   "source": [
    "### convert_stamp()"
   ]
  },
  {
   "cell_type": "code",
   "execution_count": 18,
   "id": "49f04e3a-371f-4eda-8fa8-352eae317ed3",
   "metadata": {},
   "outputs": [
    {
     "name": "stdout",
     "output_type": "stream",
     "text": [
      "2025-10-01T16:58:34.296803\n",
      "builtin_interfaces.msg.Time(sec=1759330714, nanosec=296802997)\n",
      "Time(nanoseconds=1759330714296802997, clock_type=SYSTEM_TIME)\n",
      "1759330714.296803\n"
     ]
    }
   ],
   "source": [
    "import time\n",
    "from nimbro_utils.lazy import convert_stamp\n",
    "iso = convert_stamp(stamp=time.time(), target_format=\"iso\")\n",
    "print(iso)\n",
    "msg = convert_stamp(stamp=iso, target_format=\"msg\")\n",
    "print(msg)\n",
    "rclpy_time = convert_stamp(stamp=msg, target_format=\"rclpy\")\n",
    "print(rclpy_time)\n",
    "seconds = convert_stamp(stamp=rclpy_time, target_format=\"seconds\")\n",
    "print(seconds)"
   ]
  },
  {
   "cell_type": "markdown",
   "id": "1644473d-10c4-4499-ba9e-ffafb7c888e5",
   "metadata": {},
   "source": [
    "### log_lines()"
   ]
  },
  {
   "cell_type": "code",
   "execution_count": 19,
   "id": "4171a0ef-36cf-4e21-a512-b1a8d29c639b",
   "metadata": {},
   "outputs": [
    {
     "name": "stdout",
     "output_type": "stream",
     "text": [
      "Lorem  ipsum  dolor  sit  amet,  consectetur  adipiscing  elit,  sed  do\n",
      "| eiusmod  tempor  incididunt  ut labore et dolore magna aliqua. Ut enim\n",
      "| ad  minim  veniam,  quis  nostrud exercitation ullamco laboris nisi ut\n",
      "| aliquip   ex   ea   commodo   consequat.  Duis  aute  irure  dolor  in\n",
      "| reprehenderit  in  voluptate  velit esse cillum dolore eu fugiat nulla\n",
      "| pariatur.  Excepteur  sint  occaecat  cupidatat  non proident, sunt in\n",
      "| culpa qui officia deserunt mollit anim id est laborum.\n"
     ]
    }
   ],
   "source": [
    "from nimbro_utils.lazy import log_lines\n",
    "text = \"Lorem ipsum dolor sit amet, consectetur adipiscing elit, sed do eiusmod tempor incididunt ut labore et dolore magna aliqua. Ut enim ad minim veniam, quis nostrud exercitation ullamco laboris nisi ut aliquip ex ea commodo consequat. Duis aute irure dolor in reprehenderit in voluptate velit esse cillum dolore eu fugiat nulla pariatur. Excepteur sint occaecat cupidatat non proident, sunt in culpa qui officia deserunt mollit anim id est laborum.\"\n",
    "log_lines(text=text, line_length=70, line_highlight=\"| \", block_format=True, allow_empty_lines=False, max_lines=100, logger=None, severity=None)"
   ]
  },
  {
   "cell_type": "markdown",
   "id": "fe44d72e-1fee-47c0-bc17-396e6d78b295",
   "metadata": {},
   "source": [
    "### get_package_path()"
   ]
  },
  {
   "cell_type": "code",
   "execution_count": 20,
   "id": "a7b1e282-6584-4c1c-9c89-b3cfd3f7b527",
   "metadata": {},
   "outputs": [
    {
     "name": "stdout",
     "output_type": "stream",
     "text": [
      "/home/paetzoldb0/ws/jazzy/main/src/nimbro_utils\n"
     ]
    }
   ],
   "source": [
    "from nimbro_utils.lazy import get_package_path\n",
    "print(get_package_path(\"nimbro_utils\"))"
   ]
  },
  {
   "cell_type": "markdown",
   "id": "f094c100-2ccf-4803-a11d-d384bfb0a72f",
   "metadata": {},
   "source": [
    "### in_jupyter_notebook()"
   ]
  },
  {
   "cell_type": "code",
   "execution_count": 21,
   "id": "6e57688b-2c6f-43e6-819a-50954f881fa7",
   "metadata": {},
   "outputs": [],
   "source": [
    "from nimbro_utils.lazy import in_jupyter_notebook"
   ]
  },
  {
   "cell_type": "code",
   "execution_count": 22,
   "id": "e5cd3914-e1bd-4e9e-a94d-7eadcae9be56",
   "metadata": {},
   "outputs": [
    {
     "name": "stdout",
     "output_type": "stream",
     "text": [
      "True\n"
     ]
    }
   ],
   "source": [
    "print(in_jupyter_notebook())"
   ]
  },
  {
   "cell_type": "code",
   "execution_count": null,
   "id": "a51be58b-12b7-4930-a70c-38d5e129064a",
   "metadata": {},
   "outputs": [],
   "source": []
  }
 ],
 "metadata": {
  "kernelspec": {
   "display_name": "Python 3 (ipykernel)",
   "language": "python",
   "name": "python3"
  },
  "language_info": {
   "codemirror_mode": {
    "name": "ipython",
    "version": 3
   },
   "file_extension": ".py",
   "mimetype": "text/x-python",
   "name": "python",
   "nbconvert_exporter": "python",
   "pygments_lexer": "ipython3",
   "version": "3.12.3"
  }
 },
 "nbformat": 4,
 "nbformat_minor": 5
}
