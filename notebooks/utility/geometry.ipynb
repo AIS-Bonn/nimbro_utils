{
 "cells": [
  {
   "cell_type": "markdown",
   "id": "409c52e8-5492-4edf-949d-6521f1752f19",
   "metadata": {
    "jp-MarkdownHeadingCollapsed": true
   },
   "source": [
    "## Convert between rotation formalisms"
   ]
  },
  {
   "cell_type": "markdown",
   "id": "6a0fe065-2172-4c8e-8312-eb8e1760a067",
   "metadata": {},
   "source": [
    "### quaternion_to_rotation_matrix()"
   ]
  },
  {
   "cell_type": "code",
   "execution_count": 1,
   "id": "7c84891e-efe6-4402-a994-c3c9ab0d14b1",
   "metadata": {},
   "outputs": [
    {
     "name": "stdout",
     "output_type": "stream",
     "text": [
      "[[-0.52631579 -0.31578947  0.78947368]\n",
      " [ 0.31578947  0.78947368  0.52631579]\n",
      " [-0.78947368  0.52631579 -0.31578947]]\n"
     ]
    }
   ],
   "source": [
    "from nimbro_utils.lazy import quaternion_to_rotation_matrix\n",
    "rm = quaternion_to_rotation_matrix([0, 0.5, 0.2, 0.3])\n",
    "print(rm)"
   ]
  },
  {
   "cell_type": "markdown",
   "id": "1c097d4c-d72a-496e-b513-6f0cf24f4215",
   "metadata": {},
   "source": [
    "### quaternion_to_yaw_pitch_roll()"
   ]
  },
  {
   "cell_type": "code",
   "execution_count": 2,
   "id": "230d40f4-2435-4daf-8fb8-d64f9de6a0cc",
   "metadata": {},
   "outputs": [
    {
     "name": "stdout",
     "output_type": "stream",
     "text": [
      "[0. 0. 0.]\n"
     ]
    }
   ],
   "source": [
    "from nimbro_utils.lazy import quaternion_to_yaw_pitch_roll\n",
    "ypr = quaternion_to_yaw_pitch_roll([0, 0, 0, 1])\n",
    "print(ypr)"
   ]
  },
  {
   "cell_type": "markdown",
   "id": "f946dd7e-6104-4b6f-804f-ebd5ad820cd2",
   "metadata": {},
   "source": [
    "### yaw_pitch_roll_to_rotation_matrix()"
   ]
  },
  {
   "cell_type": "code",
   "execution_count": 3,
   "id": "02d325c9-7799-49c4-b7dc-262e4a574dd8",
   "metadata": {},
   "outputs": [
    {
     "name": "stdout",
     "output_type": "stream",
     "text": [
      "[[1. 0. 0.]\n",
      " [0. 1. 0.]\n",
      " [0. 0. 1.]]\n"
     ]
    }
   ],
   "source": [
    "from nimbro_utils.lazy import yaw_pitch_roll_to_rotation_matrix\n",
    "rm = yaw_pitch_roll_to_rotation_matrix(ypr)\n",
    "print(rm)"
   ]
  },
  {
   "cell_type": "markdown",
   "id": "522a107a-0793-4c54-acea-503bdf943a68",
   "metadata": {},
   "source": [
    "### yaw_pitch_roll_to_quaternion()"
   ]
  },
  {
   "cell_type": "code",
   "execution_count": 4,
   "id": "9c697723-1826-4346-b46f-df9eb9aae928",
   "metadata": {},
   "outputs": [
    {
     "name": "stdout",
     "output_type": "stream",
     "text": [
      "[0. 0. 0. 1.]\n"
     ]
    }
   ],
   "source": [
    "from nimbro_utils.lazy import yaw_pitch_roll_to_quaternion\n",
    "quat = yaw_pitch_roll_to_quaternion(ypr)\n",
    "print(quat)"
   ]
  },
  {
   "cell_type": "markdown",
   "id": "e60e6503-0989-483b-8f5b-7e398f24776a",
   "metadata": {},
   "source": [
    "### rotation_matrix_to_quaternion()"
   ]
  },
  {
   "cell_type": "code",
   "execution_count": 5,
   "id": "73be3d62-e3b1-48ac-9cf8-94b4a5a83280",
   "metadata": {},
   "outputs": [
    {
     "name": "stdout",
     "output_type": "stream",
     "text": [
      "[0. 0. 0. 1.]\n"
     ]
    }
   ],
   "source": [
    "from nimbro_utils.lazy import rotation_matrix_to_quaternion\n",
    "quat = rotation_matrix_to_quaternion(rm)\n",
    "print(quat)"
   ]
  },
  {
   "cell_type": "markdown",
   "id": "145c8f44-a09c-4141-816d-54d1a1e7e9e1",
   "metadata": {
    "jp-MarkdownHeadingCollapsed": true
   },
   "source": [
    "## Convert between NumPy and ROS2 messages"
   ]
  },
  {
   "cell_type": "markdown",
   "id": "d5e254cd-9373-4507-86e3-bbb7c9de9a8f",
   "metadata": {},
   "source": [
    "### create_point()"
   ]
  },
  {
   "cell_type": "code",
   "execution_count": 6,
   "id": "8dc3969f-ee33-42da-b00a-755424e153dd",
   "metadata": {},
   "outputs": [
    {
     "name": "stdout",
     "output_type": "stream",
     "text": [
      "geometry_msgs.msg.Point(x=0.0, y=1.0, z=2.0)\n",
      "geometry_msgs.msg.PointStamped(header=std_msgs.msg.Header(stamp=builtin_interfaces.msg.Time(sec=1757517305, nanosec=407506704), frame_id='base'), point=geometry_msgs.msg.Point(x=0.0, y=1.0, z=2.0))\n"
     ]
    }
   ],
   "source": [
    "import time\n",
    "from nimbro_utils.lazy import create_point\n",
    "point_msg = create_point([0, 1, 2])\n",
    "print(point_msg)\n",
    "point_stamped_msg = create_point(point_msg, frame=\"base\", stamp=time.time())\n",
    "print(point_stamped_msg)"
   ]
  },
  {
   "cell_type": "markdown",
   "id": "f08369e5-d700-4ba6-84c9-5c3945c7edb2",
   "metadata": {},
   "source": [
    "### create_vector()"
   ]
  },
  {
   "cell_type": "code",
   "execution_count": 7,
   "id": "b12191c1-a7aa-46eb-b3d0-e1f75e6e213e",
   "metadata": {},
   "outputs": [
    {
     "name": "stdout",
     "output_type": "stream",
     "text": [
      "geometry_msgs.msg.Vector3(x=0.0, y=1.0, z=2.0)\n",
      "geometry_msgs.msg.Vector3Stamped(header=std_msgs.msg.Header(stamp=builtin_interfaces.msg.Time(sec=1757517305, nanosec=423227071), frame_id='base'), vector=geometry_msgs.msg.Vector3(x=0.0, y=1.0, z=2.0))\n"
     ]
    }
   ],
   "source": [
    "import time\n",
    "from nimbro_utils.lazy import create_vector\n",
    "vector_msg = create_vector([0, 1, 2])\n",
    "print(vector_msg)\n",
    "vector_stamped_msg = create_vector(vector_msg, frame=\"base\", stamp=time.time())\n",
    "print(vector_stamped_msg)"
   ]
  },
  {
   "cell_type": "markdown",
   "id": "c7ec957c-8608-48cb-b8ec-93e8889e185f",
   "metadata": {},
   "source": [
    "### create_quaternion()"
   ]
  },
  {
   "cell_type": "code",
   "execution_count": 8,
   "id": "a7a76a1f-ffb4-46cb-af29-dbc1ebae7d54",
   "metadata": {},
   "outputs": [
    {
     "name": "stdout",
     "output_type": "stream",
     "text": [
      "geometry_msgs.msg.Quaternion(x=0.0, y=0.0, z=0.0, w=1.0)\n",
      "geometry_msgs.msg.QuaternionStamped(header=std_msgs.msg.Header(stamp=builtin_interfaces.msg.Time(sec=1757517305, nanosec=432755231), frame_id='base'), quaternion=geometry_msgs.msg.Quaternion(x=0.0, y=0.0, z=0.0, w=1.0))\n"
     ]
    }
   ],
   "source": [
    "import time\n",
    "from nimbro_utils.lazy import create_quaternion\n",
    "quaternion_msg = create_quaternion([0, 0, 0, 1])\n",
    "print(quaternion_msg)\n",
    "quaternion_stamped_msg = create_quaternion(quaternion_msg, frame=\"base\", stamp=time.time())\n",
    "print(quaternion_stamped_msg)"
   ]
  },
  {
   "cell_type": "markdown",
   "id": "753b8965-084c-4e45-9aa0-546560c96632",
   "metadata": {},
   "source": [
    "### create_pose()"
   ]
  },
  {
   "cell_type": "code",
   "execution_count": 9,
   "id": "ab2093df-f9b9-4b24-8fe8-c565336fac1c",
   "metadata": {},
   "outputs": [
    {
     "name": "stdout",
     "output_type": "stream",
     "text": [
      "geometry_msgs.msg.Pose(position=geometry_msgs.msg.Point(x=1.0, y=2.0, z=3.0), orientation=geometry_msgs.msg.Quaternion(x=0.0, y=0.0, z=0.0, w=1.0))\n",
      "geometry_msgs.msg.PoseStamped(header=std_msgs.msg.Header(stamp=builtin_interfaces.msg.Time(sec=1757517305, nanosec=444828748), frame_id='base'), pose=geometry_msgs.msg.Pose(position=geometry_msgs.msg.Point(x=1.0, y=2.0, z=3.0), orientation=geometry_msgs.msg.Quaternion(x=0.0, y=0.0, z=0.0, w=1.0)))\n"
     ]
    }
   ],
   "source": [
    "import time\n",
    "from nimbro_utils.lazy import create_pose\n",
    "pose_msg = create_pose(point=[1, 2, 3], quaternion=[0, 0, 0, 1])\n",
    "print(pose_msg)\n",
    "pose_stamped_msg = create_pose(pose_msg.position, pose_msg.orientation, frame=\"base\", stamp=time.time())\n",
    "print(pose_stamped_msg)"
   ]
  },
  {
   "cell_type": "markdown",
   "id": "358cb29f-3900-44b2-85d6-645cc2a633e0",
   "metadata": {},
   "source": [
    "### create_transform()"
   ]
  },
  {
   "cell_type": "code",
   "execution_count": 10,
   "id": "ddb4b500-3550-4382-9dfc-a1ee36337220",
   "metadata": {},
   "outputs": [
    {
     "name": "stdout",
     "output_type": "stream",
     "text": [
      "geometry_msgs.msg.Transform(translation=geometry_msgs.msg.Vector3(x=1.0, y=2.0, z=3.0), rotation=geometry_msgs.msg.Quaternion(x=0.0, y=0.0, z=0.0, w=1.0))\n",
      "geometry_msgs.msg.TransformStamped(header=std_msgs.msg.Header(stamp=builtin_interfaces.msg.Time(sec=1757517305, nanosec=457943439), frame_id='base'), child_frame_id='', transform=geometry_msgs.msg.Transform(translation=geometry_msgs.msg.Vector3(x=1.0, y=2.0, z=3.0), rotation=geometry_msgs.msg.Quaternion(x=0.0, y=0.0, z=0.0, w=1.0)))\n"
     ]
    }
   ],
   "source": [
    "import time\n",
    "from nimbro_utils.lazy import create_transform\n",
    "\n",
    "transform_msg = create_transform(vector=[1, 2, 3], quaternion=[0, 0, 0, 1])\n",
    "print(transform_msg)\n",
    "\n",
    "transform_stamped_msg = create_transform(transform_msg.translation, transform_msg.rotation, frame=\"base\", stamp=time.time())\n",
    "print(transform_stamped_msg)"
   ]
  },
  {
   "cell_type": "markdown",
   "id": "dd0dd30d-a50a-4954-9c43-e1b057bf19be",
   "metadata": {},
   "source": [
    "### create_pointcloud()"
   ]
  },
  {
   "cell_type": "code",
   "execution_count": 11,
   "id": "ba64451b-9943-4dd4-b6e0-de4a4369515f",
   "metadata": {},
   "outputs": [
    {
     "name": "stdout",
     "output_type": "stream",
     "text": [
      "sensor_msgs.msg.PointCloud2(header=std_msgs.msg.Header(stamp=builtin_interfaces.msg.Time(sec=1757517305, nanosec=468862295), frame_id='base'), height=1, width=2, fields=[sensor_msgs.msg.PointField(name='x', offset=0, datatype=7, count=1), sensor_msgs.msg.PointField(name='y', offset=4, datatype=7, count=1), sensor_msgs.msg.PointField(name='z', offset=8, datatype=7, count=1)], is_bigendian=False, point_step=12, row_step=24, data=[0, 0, 0, 0, 0, 0, 128, 63, 0, 0, 0, 64, 0, 0, 64, 64, 0, 0, 128, 64, 0, 0, 160, 64], is_dense=False)\n"
     ]
    }
   ],
   "source": [
    "from nimbro_utils.lazy import create_pointcloud\n",
    "pointcloud_stamped_msg = create_pointcloud([[0, 1, 2], [3, 4, 5]], frame=\"base\", stamp=time.time())\n",
    "print(pointcloud_stamped_msg)"
   ]
  },
  {
   "cell_type": "markdown",
   "id": "7e82364c-497d-4c74-9694-c3a7e3f59cb4",
   "metadata": {},
   "source": [
    "### convert_transform()"
   ]
  },
  {
   "cell_type": "code",
   "execution_count": 12,
   "id": "ea8d0f2a-7d65-4c80-a620-039bffee8017",
   "metadata": {},
   "outputs": [
    {
     "name": "stdout",
     "output_type": "stream",
     "text": [
      "geometry_msgs.msg.PoseStamped(header=std_msgs.msg.Header(stamp=builtin_interfaces.msg.Time(sec=1757517305, nanosec=483826398), frame_id='base'), pose=geometry_msgs.msg.Pose(position=geometry_msgs.msg.Point(x=1.0, y=2.0, z=3.0), orientation=geometry_msgs.msg.Quaternion(x=0.0, y=0.0, z=0.0, w=1.0)))\n"
     ]
    }
   ],
   "source": [
    "from nimbro_utils.lazy import convert_transform, create_transform\n",
    "transform_stamped_msg = create_transform(vector=[1, 2, 3], quaternion=[0, 0, 0, 1], frame=\"base\", stamp=time.time())\n",
    "converted_transform = convert_transform(transform_stamped_msg, target_format=\"PoseStamped\")\n",
    "print(converted_transform)"
   ]
  },
  {
   "cell_type": "markdown",
   "id": "c9552503-5668-4581-b1da-b5f50944b3e6",
   "metadata": {},
   "source": [
    "### convert_point_and_vector()"
   ]
  },
  {
   "cell_type": "code",
   "execution_count": 13,
   "id": "e497cb33-5e6d-4f92-b2d7-ae1035e4b674",
   "metadata": {},
   "outputs": [
    {
     "name": "stdout",
     "output_type": "stream",
     "text": [
      "geometry_msgs.msg.Point(x=0.0, y=1.0, z=2.0)\n",
      "geometry_msgs.msg.Vector3(x=0.0, y=1.0, z=2.0)\n",
      "geometry_msgs.msg.Point(x=0.0, y=1.0, z=2.0)\n"
     ]
    }
   ],
   "source": [
    "from nimbro_utils.lazy import convert_point_and_vector, create_point\n",
    "point_msg = create_point([0, 1, 2])\n",
    "print(point_msg)\n",
    "vector_msg = convert_point_and_vector(point_msg)\n",
    "print(vector_msg)\n",
    "point_msg_2 = convert_point_and_vector(vector_msg)\n",
    "print(point_msg_2)"
   ]
  },
  {
   "cell_type": "markdown",
   "id": "11a1c448-4ae4-45db-9929-f1ae16594caf",
   "metadata": {},
   "source": [
    "### convert_pose_and_transform()"
   ]
  },
  {
   "cell_type": "code",
   "execution_count": 14,
   "id": "39d53057-e941-42c2-a69a-c117f0c972fe",
   "metadata": {},
   "outputs": [
    {
     "name": "stdout",
     "output_type": "stream",
     "text": [
      "geometry_msgs.msg.Pose(position=geometry_msgs.msg.Point(x=0.0, y=1.0, z=2.0), orientation=geometry_msgs.msg.Quaternion(x=0.0, y=0.0, z=0.0, w=1.0))\n",
      "geometry_msgs.msg.Transform(translation=geometry_msgs.msg.Vector3(x=0.0, y=1.0, z=2.0), rotation=geometry_msgs.msg.Quaternion(x=0.0, y=0.0, z=0.0, w=1.0))\n",
      "geometry_msgs.msg.Pose(position=geometry_msgs.msg.Point(x=0.0, y=1.0, z=2.0), orientation=geometry_msgs.msg.Quaternion(x=0.0, y=0.0, z=0.0, w=1.0))\n"
     ]
    }
   ],
   "source": [
    "from nimbro_utils.lazy import convert_pose_and_transform\n",
    "pose_msg = create_pose(point=[0, 1, 2], quaternion=[0, 0, 0, 1])\n",
    "print(pose_msg)\n",
    "transform_msg = convert_pose_and_transform(pose_msg)\n",
    "print(transform_msg)\n",
    "pose_msg_2 = convert_pose_and_transform(transform_msg)\n",
    "print(pose_msg_2)"
   ]
  },
  {
   "cell_type": "markdown",
   "id": "120dbba9-3b73-4b8c-ab71-0a8fb1d68c14",
   "metadata": {},
   "source": [
    "### laserscan_to_pointcloud()"
   ]
  },
  {
   "cell_type": "code",
   "execution_count": 15,
   "id": "78c3a3ed-a3d3-4b02-8378-de78863ad613",
   "metadata": {},
   "outputs": [
    {
     "name": "stdout",
     "output_type": "stream",
     "text": [
      "sensor_msgs.msg.LaserScan(header=std_msgs.msg.Header(stamp=builtin_interfaces.msg.Time(sec=0, nanosec=0), frame_id=''), angle_min=0.0, angle_max=0.0, angle_increment=0.0, time_increment=0.0, scan_time=0.0, range_min=0.0, range_max=0.0, ranges=[], intensities=[])\n",
      "sensor_msgs.msg.PointCloud2(header=std_msgs.msg.Header(stamp=builtin_interfaces.msg.Time(sec=0, nanosec=0), frame_id=''), height=1, width=0, fields=[sensor_msgs.msg.PointField(name='x', offset=0, datatype=7, count=1), sensor_msgs.msg.PointField(name='y', offset=4, datatype=7, count=1), sensor_msgs.msg.PointField(name='z', offset=8, datatype=7, count=1)], is_bigendian=False, point_step=12, row_step=0, data=[], is_dense=False)\n"
     ]
    }
   ],
   "source": [
    "from sensor_msgs.msg import LaserScan\n",
    "from nimbro_utils.lazy import laserscan_to_pointcloud\n",
    "laserscan = LaserScan()\n",
    "print(laserscan)\n",
    "pointcloud = laserscan_to_pointcloud(laserscan)\n",
    "print(pointcloud)"
   ]
  },
  {
   "cell_type": "markdown",
   "id": "e2e211fe-8968-43a8-a100-265953ac010b",
   "metadata": {},
   "source": [
    "### message_to_numpy()"
   ]
  },
  {
   "cell_type": "code",
   "execution_count": 16,
   "id": "cc2f5443-ab38-4894-b150-f99adaf34ab0",
   "metadata": {},
   "outputs": [
    {
     "name": "stdout",
     "output_type": "stream",
     "text": [
      "geometry_msgs.msg.Pose(position=geometry_msgs.msg.Point(x=1.0, y=2.0, z=3.0), orientation=geometry_msgs.msg.Quaternion(x=0.0, y=0.0, z=0.0, w=1.0))\n",
      "(array([1., 2., 3.], dtype=float32), array([0., 0., 0., 1.], dtype=float32))\n",
      "sensor_msgs.msg.PointCloud2(header=std_msgs.msg.Header(stamp=builtin_interfaces.msg.Time(sec=1757517305, nanosec=541922569), frame_id='base'), height=1, width=2, fields=[sensor_msgs.msg.PointField(name='x', offset=0, datatype=7, count=1), sensor_msgs.msg.PointField(name='y', offset=4, datatype=7, count=1), sensor_msgs.msg.PointField(name='z', offset=8, datatype=7, count=1)], is_bigendian=False, point_step=12, row_step=24, data=[0, 0, 0, 0, 0, 0, 128, 63, 0, 0, 0, 64, 0, 0, 64, 64, 0, 0, 128, 64, 0, 0, 160, 64], is_dense=False)\n",
      "[[0. 1. 2.]\n",
      " [3. 4. 5.]]\n"
     ]
    }
   ],
   "source": [
    "import time\n",
    "from nimbro_utils.lazy import message_to_numpy, create_pose, create_pointcloud\n",
    "\n",
    "pose_msg = create_pose(point=[1, 2, 3], quaternion=[0, 0, 0, 1])\n",
    "print(pose_msg)\n",
    "pose_np = message_to_numpy(pose_msg)\n",
    "print(pose_np)\n",
    "\n",
    "pointcloud_msg = create_pointcloud([[0, 1, 2], [3, 4, 5]], frame=\"base\", stamp=time.time())\n",
    "print(pointcloud_msg)\n",
    "pointcloud_np = message_to_numpy(pointcloud_msg)\n",
    "print(pointcloud_np)"
   ]
  },
  {
   "cell_type": "markdown",
   "id": "9c943264-e7d3-4c73-9ce7-1f75fbc8e4c0",
   "metadata": {
    "jp-MarkdownHeadingCollapsed": true
   },
   "source": [
    "## Miscellaneous geometry utilities"
   ]
  },
  {
   "cell_type": "markdown",
   "id": "92e51506-635c-426c-bfe0-812d29b2f569",
   "metadata": {},
   "source": [
    "### do_transform()"
   ]
  },
  {
   "cell_type": "code",
   "execution_count": 17,
   "id": "bcad9041-e279-4c34-8471-c0fde287e2f1",
   "metadata": {},
   "outputs": [
    {
     "name": "stdout",
     "output_type": "stream",
     "text": [
      "geometry_msgs.msg.Point(x=0.0, y=1.0, z=2.0)\n",
      "geometry_msgs.msg.TransformStamped(header=std_msgs.msg.Header(stamp=builtin_interfaces.msg.Time(sec=1757517305, nanosec=556707620), frame_id='base'), child_frame_id='', transform=geometry_msgs.msg.Transform(translation=geometry_msgs.msg.Vector3(x=1.0, y=1.0, z=1.0), rotation=geometry_msgs.msg.Quaternion(x=0.0, y=0.0, z=0.0, w=1.0)))\n",
      "geometry_msgs.msg.PointStamped(header=std_msgs.msg.Header(stamp=builtin_interfaces.msg.Time(sec=1757517305, nanosec=556707620), frame_id='base'), point=geometry_msgs.msg.Point(x=1.0, y=2.0, z=3.0))\n"
     ]
    }
   ],
   "source": [
    "from nimbro_utils.lazy import do_transform, create_point, create_transform\n",
    "point_msg = create_point([0, 1, 2])\n",
    "print(point_msg)\n",
    "transform_stamped_msg = create_transform(vector=[1, 1, 1], quaternion=[0, 0, 0, 1], frame=\"base\", stamp=time.time())\n",
    "print(transform_stamped_msg)\n",
    "transformed_point_msg = do_transform(point_msg, transform_stamped_msg)\n",
    "print(transformed_point_msg)"
   ]
  },
  {
   "cell_type": "markdown",
   "id": "31851c2b-4398-4b9d-81a1-7b4011244287",
   "metadata": {},
   "source": [
    "### rotate_pose()"
   ]
  },
  {
   "cell_type": "code",
   "execution_count": 18,
   "id": "200ea651-11d5-472b-80c4-59d566e25ad4",
   "metadata": {},
   "outputs": [
    {
     "name": "stdout",
     "output_type": "stream",
     "text": [
      "geometry_msgs.msg.Pose(position=geometry_msgs.msg.Point(x=1.0, y=2.0, z=3.0), orientation=geometry_msgs.msg.Quaternion(x=0.0, y=0.0, z=0.0, w=1.0))\n",
      "geometry_msgs.msg.Pose(position=geometry_msgs.msg.Point(x=1.0, y=2.0, z=3.0), orientation=geometry_msgs.msg.Quaternion(x=0.0, y=0.0, z=0.7071067811865475, w=0.7071067811865476))\n"
     ]
    }
   ],
   "source": [
    "from nimbro_utils.lazy import rotate_pose\n",
    "pose_msg = create_pose(point=[1, 2, 3], quaternion=[0, 0, 0, 1])\n",
    "print(pose_msg)\n",
    "rotated_pose_msg = rotate_pose(pose_msg, delta=90, axis=\"z\", degrees=True)\n",
    "print(rotated_pose_msg)"
   ]
  },
  {
   "cell_type": "markdown",
   "id": "6f575903-f3cb-45d2-8d1c-0c8e350ccb02",
   "metadata": {},
   "source": [
    "### rotation_from_vectors()"
   ]
  },
  {
   "cell_type": "code",
   "execution_count": 19,
   "id": "6fcde97f-689b-418e-9c89-b9eec576faab",
   "metadata": {},
   "outputs": [
    {
     "name": "stdout",
     "output_type": "stream",
     "text": [
      "[0.         0.70710678 0.         0.70710678]\n"
     ]
    }
   ],
   "source": [
    "from nimbro_utils.lazy import rotation_from_vectors\n",
    "quat = rotation_from_vectors([0, 0, 1], [1, 0, 0], rotation_format=\"quat\")\n",
    "print(quat)"
   ]
  },
  {
   "cell_type": "markdown",
   "id": "2d0dfe8b-fee4-4a2a-9cf6-72199fac99d1",
   "metadata": {},
   "source": [
    "### cosine_similarity()"
   ]
  },
  {
   "cell_type": "code",
   "execution_count": 20,
   "id": "873ef6bf-c914-4687-b268-9ece6c4150c7",
   "metadata": {},
   "outputs": [
    {
     "name": "stdout",
     "output_type": "stream",
     "text": [
      "0.7071067811865475\n"
     ]
    }
   ],
   "source": [
    "from nimbro_utils.lazy import cosine_similarity\n",
    "sim = cosine_similarity([1, 0, 0], [1, 1, 0])\n",
    "print(sim)"
   ]
  },
  {
   "cell_type": "markdown",
   "id": "99f156e1-1618-434f-97a9-d630494915ba",
   "metadata": {},
   "source": [
    "### quaternion_distance()"
   ]
  },
  {
   "cell_type": "code",
   "execution_count": 21,
   "id": "b02bf4b0-e51d-46d1-9db0-2ae77e3e8774",
   "metadata": {},
   "outputs": [
    {
     "name": "stdout",
     "output_type": "stream",
     "text": [
      "0.0\n",
      "90.0\n"
     ]
    }
   ],
   "source": [
    "from nimbro_utils.lazy import quaternion_distance\n",
    "print(quaternion_distance([0, 0.5, 0.2, 0.3], [0, 0.81110711, 0.32444284, 0.48666426], degrees=True))\n",
    "print(quaternion_distance([0, 0.5, 0.2, 0.3], [0, 0, 0, 1], degrees=True))"
   ]
  },
  {
   "cell_type": "markdown",
   "id": "5a262b2f-7f56-4a16-8de2-378b32f6989d",
   "metadata": {},
   "source": [
    "### get_circle_pixels()"
   ]
  },
  {
   "cell_type": "code",
   "execution_count": 22,
   "id": "e6680938-30d8-49df-a10e-d298c6487092",
   "metadata": {},
   "outputs": [
    {
     "name": "stdout",
     "output_type": "stream",
     "text": [
      "[[ 5 10]\n",
      " [ 6  7]\n",
      " [ 6 13]\n",
      " [ 8  5]\n",
      " [ 8 15]\n",
      " [12  5]\n",
      " [12 15]\n",
      " [14  7]\n",
      " [14 13]\n",
      " [15 10]]\n"
     ]
    }
   ],
   "source": [
    "from nimbro_utils.lazy import get_circle_pixels\n",
    "print(get_circle_pixels(center=[10, 10], radius=5, n=10, fill=False, image_shape=None))"
   ]
  },
  {
   "cell_type": "markdown",
   "id": "8a225797-638e-4c47-bdc9-2dbde50f4495",
   "metadata": {},
   "source": [
    "### get_iou()"
   ]
  },
  {
   "cell_type": "code",
   "execution_count": 23,
   "id": "0b55a1c5-80bf-4a25-ae86-f49be4f727b4",
   "metadata": {},
   "outputs": [
    {
     "name": "stdout",
     "output_type": "stream",
     "text": [
      "0.09090909090909091\n"
     ]
    }
   ],
   "source": [
    "from nimbro_utils.lazy import get_iou\n",
    "iou = get_iou([0, 0, 5, 10], [5, 0, 10, 10])\n",
    "print(iou)"
   ]
  },
  {
   "cell_type": "markdown",
   "id": "28a30953-59ae-4d3a-87a2-1ecec5c56b05",
   "metadata": {},
   "source": [
    "### convert_boxes()"
   ]
  },
  {
   "cell_type": "code",
   "execution_count": 24,
   "id": "4b44d914-8b4e-4515-95c2-ab7165cd20ba",
   "metadata": {},
   "outputs": [],
   "source": [
    "from nimbro_utils.lazy import convert_boxes"
   ]
  },
  {
   "cell_type": "code",
   "execution_count": 25,
   "id": "c59fa811-f680-4dac-927a-22f7b458d76b",
   "metadata": {},
   "outputs": [
    {
     "name": "stdout",
     "output_type": "stream",
     "text": [
      "[[1, 1, 5, 5]]\n",
      "[[1, 1, 4, 4]]\n",
      "[[0.1111111111111111, 0.1111111111111111, 0.4444444444444444, 0.4444444444444444]]\n"
     ]
    }
   ],
   "source": [
    "boxes=[[1, 1, 5, 5]]\n",
    "print(boxes)\n",
    "converted_boxes = convert_boxes(boxes=boxes, source_format=\"xyxy_absolute\", target_format=\"xywh_absolute\")\n",
    "print(converted_boxes)\n",
    "converted_boxes = convert_boxes(boxes=boxes, source_format=\"xyxy_absolute\", target_format=\"xywh_normalized\", image_size=[10, 10])\n",
    "print(converted_boxes)"
   ]
  },
  {
   "cell_type": "code",
   "execution_count": null,
   "id": "bb8b575d-95f6-4727-b704-7c56cefe4da4",
   "metadata": {},
   "outputs": [],
   "source": []
  }
 ],
 "metadata": {
  "kernelspec": {
   "display_name": "Python 3 (ipykernel)",
   "language": "python",
   "name": "python3"
  },
  "language_info": {
   "codemirror_mode": {
    "name": "ipython",
    "version": 3
   },
   "file_extension": ".py",
   "mimetype": "text/x-python",
   "name": "python",
   "nbconvert_exporter": "python",
   "pygments_lexer": "ipython3",
   "version": "3.12.3"
  }
 },
 "nbformat": 4,
 "nbformat_minor": 5
}
