{
 "cells": [
  {
   "cell_type": "markdown",
   "id": "145c8f44-a09c-4141-816d-54d1a1e7e9e1",
   "metadata": {
    "jp-MarkdownHeadingCollapsed": true
   },
   "source": [
    "## start_and_spin_node()"
   ]
  },
  {
   "cell_type": "code",
   "execution_count": 1,
   "id": "ab7a8da7-b7d8-4d43-9aa2-36b8108485f5",
   "metadata": {},
   "outputs": [
    {
     "name": "stdout",
     "output_type": "stream",
     "text": [
      "\u001b[32m>\u001b[36m Starting node 'TestNode'\u001b[0m\n",
      "\u001b[0m2025-09-10 17:18:30.499 [INFO] [test_node]: Timer callback 1\u001b[0m\n",
      "\u001b[0m2025-09-10 17:18:31.416 [INFO] [test_node]: Timer callback 2\u001b[0m\n",
      "\u001b[0m2025-09-10 17:18:32.416 [INFO] [test_node]: Timer callback 3\u001b[0m\n",
      "\u001b[0m2025-09-10 17:18:33.415 [INFO] [test_node]: Timer callback 4\u001b[0m\n",
      "\u001b[0m2025-09-10 17:18:34.422 [INFO] [test_node]: Timer callback 5\u001b[0m\n",
      "\u001b[31m> \u001b[36mStopped node 'TestNode'\u001b[0m\n"
     ]
    }
   ],
   "source": [
    "import time\n",
    "from rclpy.node import Node\n",
    "from nimbro_utils.lazy import start_and_spin_node, stop_node\n",
    "\n",
    "class TestNode(Node):\n",
    "    def __init__(self, context=None):\n",
    "        super().__init__(\"test_node\", context=context)\n",
    "        self.called = 0\n",
    "        self.create_timer(1.0, self.callback)\n",
    "    def callback(self):\n",
    "        self.called += 1\n",
    "        self.get_logger().info(f\"Timer callback {self.called}\")\n",
    "\n",
    "node_env = start_and_spin_node(TestNode, blocking=False)\n",
    "time.sleep(5)\n",
    "stop_node(*node_env)"
   ]
  },
  {
   "cell_type": "markdown",
   "id": "409c52e8-5492-4edf-949d-6521f1752f19",
   "metadata": {
    "jp-MarkdownHeadingCollapsed": true
   },
   "source": [
    "## SelfShutdown"
   ]
  },
  {
   "cell_type": "code",
   "execution_count": 2,
   "id": "73a7f640-fb21-4210-ae88-83bfa6940255",
   "metadata": {},
   "outputs": [
    {
     "name": "stdout",
     "output_type": "stream",
     "text": [
      "\u001b[32m>\u001b[36m Starting node 'TestNode'\u001b[0m\n",
      "\u001b[0m2025-09-10 17:18:35.553 [INFO] [test_node]: Timer callback 1\u001b[0m\n",
      "\u001b[0m2025-09-10 17:18:35.654 [INFO] [test_node]: Timer callback 2\u001b[0m\n",
      "\u001b[0m2025-09-10 17:18:35.753 [INFO] [test_node]: Timer callback 3\u001b[0m\n",
      "\u001b[31m> \u001b[36mNode 'TestNode' shutting down: Node is done.\u001b[0m\n"
     ]
    }
   ],
   "source": [
    "import time\n",
    "from rclpy.node import Node\n",
    "from rclpy.callback_groups import MutuallyExclusiveCallbackGroup\n",
    "from nimbro_utils.lazy import start_and_spin_node, SelfShutdown\n",
    "\n",
    "class TestNode(Node):\n",
    "    def __init__(self, context=None):\n",
    "        super().__init__(\"test_node\", context=context)\n",
    "        # raise SelfShutdown(\"Node is done.\")\n",
    "        self.called = 0\n",
    "        # self.create_timer(0.1, self.callback)\n",
    "        self.create_timer(0.1, self.callback, callback_group=MutuallyExclusiveCallbackGroup())\n",
    "    def callback(self):\n",
    "        self.called += 1\n",
    "        if self.called < 4:\n",
    "            self.get_logger().info(f\"Timer callback {self.called}\")\n",
    "        elif self.called == 4:\n",
    "            raise SelfShutdown(\"Node is done.\")\n",
    "\n",
    "start_and_spin_node(TestNode, blocking=True)"
   ]
  },
  {
   "cell_type": "markdown",
   "id": "9c943264-e7d3-4c73-9ce7-1f75fbc8e4c0",
   "metadata": {
    "jp-MarkdownHeadingCollapsed": true
   },
   "source": [
    "## block_until_future_complete()"
   ]
  },
  {
   "cell_type": "code",
   "execution_count": 3,
   "id": "7e0717d9-a136-4bbd-a78b-fbe3c2f5abee",
   "metadata": {},
   "outputs": [
    {
     "name": "stdout",
     "output_type": "stream",
     "text": [
      "\u001b[32m>\u001b[36m Starting node 'TestNode'\u001b[0m\n",
      "\u001b[0m2025-09-10 17:18:40.163 [INFO] [test_node]: Calling service...\u001b[0m\n",
      "\u001b[0m2025-09-10 17:18:40.214 [INFO] [test_node]: Received service call\u001b[0m\n",
      "\u001b[31m> \u001b[36mNode 'TestNode' shutting down: Hello World!\u001b[0m\n"
     ]
    }
   ],
   "source": [
    "import time\n",
    "from rclpy.node import Node\n",
    "from rclpy.callback_groups import MutuallyExclusiveCallbackGroup\n",
    "from nimbro_utils.lazy import start_and_spin_node, SelfShutdown, block_until_future_complete\n",
    "from std_srvs.srv import Trigger\n",
    "\n",
    "class TestNode(Node):\n",
    "    def __init__(self, context=None):\n",
    "        super().__init__(\"test_node\", context=context)\n",
    "        self.srv = self.create_service(Trigger, \"/trigger\", self.service_callback, callback_group=MutuallyExclusiveCallbackGroup())\n",
    "        self.create_timer(0.0, self.timer_callback, callback_group=MutuallyExclusiveCallbackGroup())\n",
    "    def service_callback(self, request, response):\n",
    "        self.get_logger().info(\"Received service call\")\n",
    "        response.success = True\n",
    "        response.message = \"Hello World!\"\n",
    "        return response\n",
    "    def timer_callback(self):\n",
    "        time.sleep(3.0)\n",
    "        request = Trigger.Request()\n",
    "        self.client = self.create_client(Trigger, \"/trigger\")\n",
    "        self.get_logger().info(\"Calling service...\")\n",
    "        future = self.client.call_async(request)\n",
    "        block_until_future_complete(self, future, timeout=None)\n",
    "        if future.done():\n",
    "            response = future.result()\n",
    "            if response.success:\n",
    "                raise SelfShutdown(response.message)\n",
    "            else:\n",
    "                raise RunTimeError(response.message)\n",
    "        else:\n",
    "            raise RunTimeError(\"Failed to receive response\")\n",
    "\n",
    "start_and_spin_node(TestNode, blocking=True)"
   ]
  },
  {
   "cell_type": "markdown",
   "id": "749deeee-1983-42a7-8f9c-ddeeaccd1c57",
   "metadata": {
    "jp-MarkdownHeadingCollapsed": true
   },
   "source": [
    "## create_throttled_subscription()"
   ]
  },
  {
   "cell_type": "code",
   "execution_count": 4,
   "id": "cb3be6d6-f923-46b8-9704-48a384ad8212",
   "metadata": {},
   "outputs": [
    {
     "name": "stdout",
     "output_type": "stream",
     "text": [
      "\u001b[32m>\u001b[36m Starting node 'TestNode'\u001b[0m\n",
      "\u001b[0m2025-09-10 17:18:41.267 [INFO] [test_node]: Received message 1\u001b[0m\n",
      "\u001b[0m2025-09-10 17:18:41.867 [INFO] [test_node]: Received message 4\u001b[0m\n",
      "\u001b[0m2025-09-10 17:18:42.265 [INFO] [test_node]: Received message 6\u001b[0m\n",
      "\u001b[0m2025-09-10 17:18:42.666 [INFO] [test_node]: Received message 8\u001b[0m\n",
      "\u001b[31m> \u001b[36mNode 'TestNode' shutting down\u001b[0m\n"
     ]
    }
   ],
   "source": [
    "import time\n",
    "from rclpy.node import Node\n",
    "from rclpy.callback_groups import MutuallyExclusiveCallbackGroup\n",
    "from nimbro_utils.lazy import start_and_spin_node, create_throttled_subscription\n",
    "from std_msgs.msg import String\n",
    "\n",
    "class TestNode(Node):\n",
    "    def __init__(self, context=None):\n",
    "        super().__init__(\"test_node\", context=context)\n",
    "        create_throttled_subscription(self, String, \"/test_string\", self.sub_callback, 1, throttle=0.4, callback_group=MutuallyExclusiveCallbackGroup())\n",
    "        # self.create_subscription(String, \"/test_string\", self.sub_callback, 1, callback_group=MutuallyExclusiveCallbackGroup())\n",
    "        self.pub = self.create_publisher(String, \"/test_string\", 1)\n",
    "        self.called = 0\n",
    "        self.create_timer(0.2, self.timer_callback)\n",
    "    def sub_callback(self, msg):\n",
    "        self.get_logger().info(f\"Received message {msg.data}\")\n",
    "    def timer_callback(self):\n",
    "        self.called += 1\n",
    "        self.pub.publish(String(data=str(self.called)))\n",
    "        if self.called == 10:\n",
    "            raise SelfShutdown()\n",
    "\n",
    "start_and_spin_node(TestNode, blocking=True)"
   ]
  },
  {
   "cell_type": "markdown",
   "id": "0d10deab-5508-4321-8fa6-5d7b814d7ba9",
   "metadata": {
    "jp-MarkdownHeadingCollapsed": true
   },
   "source": [
    "## wait_for_message()"
   ]
  },
  {
   "cell_type": "code",
   "execution_count": 5,
   "id": "0341b440-e72d-4bb3-8531-cb51af3ec621",
   "metadata": {},
   "outputs": [
    {
     "name": "stdout",
     "output_type": "stream",
     "text": [
      "\u001b[32m>\u001b[36m Starting node 'TestNode'\u001b[0m\n",
      "\u001b[0m2025-09-10 17:18:44.208 [INFO] [test_node]: Waiting for message...\u001b[0m\n",
      "\u001b[0m2025-09-10 17:18:47.109 [INFO] [test_node]: Publishing message\u001b[0m\n",
      "\u001b[31m> \u001b[36mNode 'TestNode' shutting down: Reiveived message: Hello!\u001b[0m\n"
     ]
    }
   ],
   "source": [
    "import time\n",
    "from rclpy.node import Node\n",
    "from rclpy.callback_groups import MutuallyExclusiveCallbackGroup\n",
    "from nimbro_utils.lazy import start_and_spin_node, SelfShutdown, wait_for_message\n",
    "from std_msgs.msg import String\n",
    "\n",
    "class TestNode(Node):\n",
    "    def __init__(self, context=None):\n",
    "        super().__init__(\"test_node\", context=context)\n",
    "        self.create_timer(0.1, self.waiter_callback, callback_group=MutuallyExclusiveCallbackGroup())\n",
    "        self.create_timer(0.0, self.pub_callback, callback_group=MutuallyExclusiveCallbackGroup())\n",
    "    def waiter_callback(self):\n",
    "        self.get_logger().info(\"Waiting for message...\")\n",
    "        success, message = wait_for_message(node=self, topic_name=\"/test_string\", topic_type=String, qos=1, timeout=None)\n",
    "        if success:\n",
    "            raise SelfShutdown(f\"Reiveived message: {message.data}\")\n",
    "        else:\n",
    "            raise RunTimeError(message)\n",
    "    def pub_callback(self):\n",
    "        time.sleep(3.0)\n",
    "        self.pub = self.create_publisher(String, \"/test_string\", 1)\n",
    "        self.get_logger().info(\"Publishing message\")\n",
    "        self.pub.publish(String(data=str(\"Hello!\")))\n",
    "\n",
    "start_and_spin_node(TestNode, blocking=True)"
   ]
  },
  {
   "cell_type": "code",
   "execution_count": null,
   "id": "7b39f6db-3928-4eb3-8a99-de925894964e",
   "metadata": {},
   "outputs": [],
   "source": []
  }
 ],
 "metadata": {
  "kernelspec": {
   "display_name": "Python 3 (ipykernel)",
   "language": "python",
   "name": "python3"
  },
  "language_info": {
   "codemirror_mode": {
    "name": "ipython",
    "version": 3
   },
   "file_extension": ".py",
   "mimetype": "text/x-python",
   "name": "python",
   "nbconvert_exporter": "python",
   "pygments_lexer": "ipython3",
   "version": "3.12.3"
  }
 },
 "nbformat": 4,
 "nbformat_minor": 5
}
