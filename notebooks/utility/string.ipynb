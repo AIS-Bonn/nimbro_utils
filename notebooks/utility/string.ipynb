{
 "cells": [
  {
   "cell_type": "markdown",
   "id": "409c52e8-5492-4edf-949d-6521f1752f19",
   "metadata": {
    "jp-MarkdownHeadingCollapsed": true
   },
   "source": [
    "## String normalization"
   ]
  },
  {
   "cell_type": "code",
   "execution_count": 1,
   "id": "7254ffb8-1b9d-4fcf-9333-39fc2fef2af6",
   "metadata": {},
   "outputs": [
    {
     "name": "stdout",
     "output_type": "stream",
     "text": [
      "🚧 🚜 This prôject page is a \u001b[91mwork\u001b[0m\n",
      "in progress before   [final] publication!! 🚜 🚧\n"
     ]
    }
   ],
   "source": [
    "from nimbro_utils.lazy import escape\n",
    "text = f\"🚧 🚜 This prôject page is a {escape['red']}work{escape['end']}\\nin progress before   [final] publication!! 🚜 🚧\"\n",
    "print(text)"
   ]
  },
  {
   "cell_type": "markdown",
   "id": "09b33513-def7-43ee-9161-fef4aeaffe69",
   "metadata": {},
   "source": [
    "### normalize_string()"
   ]
  },
  {
   "cell_type": "code",
   "execution_count": 2,
   "id": "3816e64d-dbd7-4059-96fe-a8569d2ae101",
   "metadata": {},
   "outputs": [
    {
     "name": "stdout",
     "output_type": "stream",
     "text": [
      "This project page is a work\n",
      "in progress before   [final] publication!!\n"
     ]
    }
   ],
   "source": [
    "from nimbro_utils.lazy import normalize_string\n",
    "print(normalize_string(string=text))"
   ]
  },
  {
   "cell_type": "markdown",
   "id": "bca9d8f2-0254-48de-a694-ad7b1fb120b7",
   "metadata": {},
   "source": [
    "### remove_unicode()"
   ]
  },
  {
   "cell_type": "code",
   "execution_count": 3,
   "id": "4128ea7c-3c98-4863-8193-38f37948adfe",
   "metadata": {},
   "outputs": [
    {
     "name": "stdout",
     "output_type": "stream",
     "text": [
      "This project page is a \u001b[91mwork\u001b[0m\n",
      "in progress before   [final] publication!!\n"
     ]
    }
   ],
   "source": [
    "from nimbro_utils.lazy import remove_unicode\n",
    "print(remove_unicode(string=text))"
   ]
  },
  {
   "cell_type": "markdown",
   "id": "88de7efb-6bd4-4a2c-a35e-8b746e4d8b44",
   "metadata": {},
   "source": [
    "### remove_whitespace()"
   ]
  },
  {
   "cell_type": "code",
   "execution_count": 4,
   "id": "8c41e3ea-cd50-4ac6-9d99-410069d0adb2",
   "metadata": {},
   "outputs": [
    {
     "name": "stdout",
     "output_type": "stream",
     "text": [
      "🚧🚜Thisprôjectpageisa\u001b[91mwork\u001b[0minprogressbefore[final]publication!!🚜🚧\n",
      "🚧 🚜 This prôject page is a \u001b[91mwork\u001b[0m in progress before [final] publication!! 🚜 🚧\n"
     ]
    }
   ],
   "source": [
    "from nimbro_utils.lazy import remove_whitespace\n",
    "print(remove_whitespace(string=text))\n",
    "print(remove_whitespace(string=text, reduce_to_single_space=True))"
   ]
  },
  {
   "cell_type": "markdown",
   "id": "f83d676b-9252-4037-a833-40f4da513ed9",
   "metadata": {},
   "source": [
    "### remove_non_alpha_numeric()"
   ]
  },
  {
   "cell_type": "code",
   "execution_count": 5,
   "id": "46468b86-be54-4f91-b33e-fcf582cb10bf",
   "metadata": {},
   "outputs": [
    {
     "name": "stdout",
     "output_type": "stream",
     "text": [
      "Thisprjectpageisa91mwork0minprogressbeforefinalpublication\n"
     ]
    }
   ],
   "source": [
    "from nimbro_utils.lazy import remove_non_alpha_numeric\n",
    "print(remove_non_alpha_numeric(string=text))"
   ]
  },
  {
   "cell_type": "markdown",
   "id": "04be2769-a872-4b8c-9a2d-e26d8fd0a57a",
   "metadata": {},
   "source": [
    "### remove_emoji()"
   ]
  },
  {
   "cell_type": "code",
   "execution_count": 6,
   "id": "9cb26afe-be02-4e8a-9b44-98de63baa948",
   "metadata": {},
   "outputs": [
    {
     "name": "stdout",
     "output_type": "stream",
     "text": [
      "This prôject page is a \u001b[91mwork\u001b[0m\n",
      "in progress before   [final] publication!!\n"
     ]
    }
   ],
   "source": [
    "from nimbro_utils.lazy import remove_emoji\n",
    "print(remove_emoji(string=text))"
   ]
  },
  {
   "cell_type": "markdown",
   "id": "c3e37f4e-37eb-41c4-b5f9-f2eb510b177f",
   "metadata": {},
   "source": [
    "### remove_ansi_escape()"
   ]
  },
  {
   "cell_type": "code",
   "execution_count": 7,
   "id": "6f44ad21-5fcf-47cd-9103-298e35d714db",
   "metadata": {},
   "outputs": [
    {
     "name": "stdout",
     "output_type": "stream",
     "text": [
      "🚧 🚜 This prôject page is a work\n",
      "in progress before   [final] publication!! 🚜 🚧\n"
     ]
    }
   ],
   "source": [
    "from nimbro_utils.lazy import remove_ansi_escape\n",
    "print(remove_ansi_escape(string=text))"
   ]
  },
  {
   "cell_type": "markdown",
   "id": "145c8f44-a09c-4141-816d-54d1a1e7e9e1",
   "metadata": {
    "jp-MarkdownHeadingCollapsed": true
   },
   "source": [
    "## String analysis"
   ]
  },
  {
   "cell_type": "markdown",
   "id": "2bc2db34-db1f-4498-99a9-dee537ffda2f",
   "metadata": {},
   "source": [
    "### levenshtein()"
   ]
  },
  {
   "cell_type": "code",
   "execution_count": 8,
   "id": "1a98a189-b494-4863-bc84-45d1625743f0",
   "metadata": {},
   "outputs": [
    {
     "name": "stdout",
     "output_type": "stream",
     "text": [
      "4\n",
      "3\n"
     ]
    }
   ],
   "source": [
    "from nimbro_utils.lazy import levenshtein\n",
    "print(levenshtein(string_a=\"test\", string_b=\"Testing\"))\n",
    "print(levenshtein(string_a=\"test\", string_b=\"Testing\", normalization=True))"
   ]
  },
  {
   "cell_type": "markdown",
   "id": "e6b3e009-fe88-4629-bef2-49782e767b95",
   "metadata": {},
   "source": [
    "### levenshtein_match()"
   ]
  },
  {
   "cell_type": "code",
   "execution_count": 9,
   "id": "7001a33f-ffcd-491b-a16a-c8e5a27b6f86",
   "metadata": {},
   "outputs": [
    {
     "name": "stdout",
     "output_type": "stream",
     "text": [
      "toy_car\n",
      "toy_car\n",
      "None\n",
      "toy_car\n",
      "None\n"
     ]
    }
   ],
   "source": [
    "from nimbro_utils.lazy import levenshtein_match\n",
    "match = levenshtein_match(word=\"Toy Car\", labels=[\"apple\", \"toy\", \"toy_car\", \"coat_stand\"], threshold=100, normalization=False)\n",
    "print(match)\n",
    "match = levenshtein_match(word=\"Toy Car\", labels=[\"apple\", \"toy\", \"toy_car\", \"coat_stand\"], threshold=3, normalization=False)\n",
    "print(match)\n",
    "match = levenshtein_match(word=\"Toy Car\", labels=[\"apple\", \"toy\", \"toy_car\", \"coat_stand\"], threshold=2, normalization=False)\n",
    "print(match)\n",
    "match = levenshtein_match(word=\"Toy Car\", labels=[\"apple\", \"toy\", \"toy_car\", \"coat_stand\"], threshold=0, normalization=True)\n",
    "print(match)\n",
    "match = levenshtein_match(word=\"Apples\", labels=[\"apple\", \"toy\", \"toy_car\", \"coat_stand\"], threshold=0, normalization=True)\n",
    "print(match)"
   ]
  },
  {
   "cell_type": "markdown",
   "id": "b8db87c9-1108-4b42-9182-606aefac81a5",
   "metadata": {},
   "source": [
    "### is_url()"
   ]
  },
  {
   "cell_type": "code",
   "execution_count": 10,
   "id": "aad16023-c91c-434c-a8e7-3fb2504139af",
   "metadata": {},
   "outputs": [
    {
     "name": "stdout",
     "output_type": "stream",
     "text": [
      "http://vlm-gist.github.io/ True\n",
      "http://vlm-gist.github.io True\n",
      "http:/vlm-gist.github.io/ False\n",
      "https://vlm-gist.github.io/ True\n",
      "vlm-gist.github.io False\n"
     ]
    }
   ],
   "source": [
    "from nimbro_utils.lazy import is_url\n",
    "print(\"http://vlm-gist.github.io/\", is_url(\"http://vlm-gist.github.io/\"))\n",
    "print(\"http://vlm-gist.github.io\", is_url(\"http://vlm-gist.github.io\"))\n",
    "print(\"http:/vlm-gist.github.io/\", is_url(\"http:/vlm-gist.github.io/\"))\n",
    "print(\"https://vlm-gist.github.io/\", is_url(\"https://vlm-gist.github.io/\"))\n",
    "print(\"vlm-gist.github.io\", is_url(\"vlm-gist.github.io\"))"
   ]
  },
  {
   "cell_type": "markdown",
   "id": "adbb897d-1e03-4c16-bd6d-2df3b20e3b47",
   "metadata": {},
   "source": [
    "### is_attribute_name()"
   ]
  },
  {
   "cell_type": "code",
   "execution_count": 11,
   "id": "6242a1da-20a8-4cf3-90db-3185d5f9c261",
   "metadata": {},
   "outputs": [
    {
     "name": "stdout",
     "output_type": "stream",
     "text": [
      "var True\n",
      "vâr True\n",
      "my var False\n",
      "str True\n",
      "def False\n",
      "raise False\n"
     ]
    }
   ],
   "source": [
    "from nimbro_utils.lazy import is_attribute_name\n",
    "print(\"var\", is_attribute_name(\"var\"))\n",
    "print(\"vâr\", is_attribute_name(\"vâr\")) # sepcial character\n",
    "print(\"my var\", is_attribute_name(\"my var\")) # whitespace\n",
    "print(\"str\", is_attribute_name(\"str\")) # shaddowing type is allowed\n",
    "print(\"def\", is_attribute_name(\"def\")) # Python keyword\n",
    "print(\"raise\", is_attribute_name(\"raise\")) # Python keyword"
   ]
  },
  {
   "cell_type": "markdown",
   "id": "2b4ee8b5-5ca8-46d3-8bbb-cf4c2b695012",
   "metadata": {},
   "source": [
    "### count_tokens()"
   ]
  },
  {
   "cell_type": "code",
   "execution_count": 12,
   "id": "10f2a581-70ab-4ed8-9f1c-77cd23fcbaa9",
   "metadata": {},
   "outputs": [
    {
     "name": "stdout",
     "output_type": "stream",
     "text": [
      "6\n"
     ]
    }
   ],
   "source": [
    "from nimbro_utils.lazy import count_tokens\n",
    "print(count_tokens(string=\"This is a test sentence.\", encoding_name=\"cl100k_base\"))"
   ]
  },
  {
   "cell_type": "markdown",
   "id": "84d1bf0f-88d8-43e6-8e13-f99e381f9d27",
   "metadata": {},
   "source": [
    "### split_sentences()"
   ]
  },
  {
   "cell_type": "code",
   "execution_count": 13,
   "id": "c0699cf8-df7e-4ce2-8776-c41b0709d1b9",
   "metadata": {},
   "outputs": [
    {
     "name": "stdout",
     "output_type": "stream",
     "text": [
      "0: This is the first sentence.\n",
      "1: Is this the second one?\n",
      "2: Yes, it was !!\n"
     ]
    }
   ],
   "source": [
    "from nimbro_utils.lazy import split_sentences\n",
    "sentences = split_sentences(\"This is the first sentence. Is this the second one? Yes, it was !!\")\n",
    "for i, sentence in enumerate(sentences):\n",
    "    print(f\"{i}:\", sentence)"
   ]
  },
  {
   "cell_type": "markdown",
   "id": "8683c4f5-2c28-44de-86e8-32acbd14a932",
   "metadata": {},
   "source": [
    "### extract_json()"
   ]
  },
  {
   "cell_type": "code",
   "execution_count": 14,
   "id": "d7eff760-42f8-44db-a267-1839b2a6cd7a",
   "metadata": {},
   "outputs": [
    {
     "name": "stdout",
     "output_type": "stream",
     "text": [
      "{}\n",
      "[{'test': ''}, {'joke': 'Why did the st{u}dent eat his homework? Because the teacher said it was a piece of cake!'}]\n"
     ]
    }
   ],
   "source": [
    "from nimbro_utils.lazy import extract_json\n",
    "text = \"\"\"\n",
    "```json\n",
    "{}\n",
    "[\n",
    "    {\n",
    "      \"test\": \"\"\n",
    "    },\n",
    "    {\n",
    "      \"joke\": \"Why did the st{u}dent eat his homework? Because the teacher said it was a piece of cake!\"\n",
    "    }\n",
    "]\n",
    "```\n",
    "\"\"\"\n",
    "print(extract_json(string=text, first_over_longest=True))\n",
    "print(extract_json(string=text, first_over_longest=False))"
   ]
  },
  {
   "cell_type": "code",
   "execution_count": null,
   "id": "9be83628-4f90-4891-b562-34dcc4b37182",
   "metadata": {},
   "outputs": [],
   "source": []
  }
 ],
 "metadata": {
  "kernelspec": {
   "display_name": "Python 3 (ipykernel)",
   "language": "python",
   "name": "python3"
  },
  "language_info": {
   "codemirror_mode": {
    "name": "ipython",
    "version": 3
   },
   "file_extension": ".py",
   "mimetype": "text/x-python",
   "name": "python",
   "nbconvert_exporter": "python",
   "pygments_lexer": "ipython3",
   "version": "3.12.3"
  }
 },
 "nbformat": 4,
 "nbformat_minor": 5
}
